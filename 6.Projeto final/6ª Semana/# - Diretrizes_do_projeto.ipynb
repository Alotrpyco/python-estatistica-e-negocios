{
  "nbformat": 4,
  "nbformat_minor": 0,
  "metadata": {
    "colab": {
      "provenance": []
    },
    "kernelspec": {
      "name": "python3",
      "display_name": "Python 3"
    },
    "language_info": {
      "name": "python"
    }
  },
  "cells": [
    {
      "cell_type": "markdown",
      "source": [
        "# 🏁 – Projeto Final e Apresentações"
      ],
      "metadata": {
        "id": "u_xJpueHc6sl"
      }
    },
    {
      "cell_type": "markdown",
      "source": [
        "### 🎯 Objetivos\n",
        "- Aplicar os conhecimentos adquiridos ao longo do curso\n",
        "- Trabalhar com dados reais ou simulados\n",
        "- Apresentar os resultados com visualizações\n",
        "- Desenvolver habilidades de comunicação e análise"
      ],
      "metadata": {
        "id": "kc6S8g-cdEbT"
      }
    },
    {
      "cell_type": "markdown",
      "source": [
        "## 📌 Etapas do Projeto Final\n",
        "1. Desenvolvimento de análises estatísticas\n",
        "2. Construção de visualizações com gráficos\n",
        "3. Interpretação e apresentação dos resultados"
      ],
      "metadata": {
        "id": "aSNt04oudF86"
      }
    },
    {
      "cell_type": "markdown",
      "source": [
        "### 📊 Economia (ECO)\n",
        "- Sorteio feito pelo professor para a excolha da base a ser trabalhada\n"
      ],
      "metadata": {
        "id": "hDO6OcZEdRNv"
      }
    },
    {
      "cell_type": "markdown",
      "source": [
        "## 📋 Estrutura Esperada do Projeto\n",
        "| Seção               | Conteúdo Esperado                                                        |\n",
        "|---------------------|---------------------------------------------------------------------------|\n",
        "| Introdução          | Apresentação do problema ou contexto                                      |\n",
        "| Conjunto de Dados   | Fonte, estrutura e breve descrição                                        |\n",
        "| Análises Aplicadas  | Uso de `pandas` para agrupar, filtrar, calcular médias, totais etc.       |\n",
        "| Visualizações       | Uso de gráficos com `matplotlib` ou `pandas` para mostrar padrões         |\n",
        "| Conclusão           | Interpretação dos resultados com base nas evidências                     |"
      ],
      "metadata": {
        "id": "08f5NUuFdqJB"
      }
    },
    {
      "cell_type": "markdown",
      "source": [
        "## 🗣️ Apresentação\n",
        "- Cada grupo/aluno terá **5–10 minutos** para apresentação\n",
        "- Haverá **feedback coletivo e individual**\n",
        "- A banca será composta por colegas e professor"
      ],
      "metadata": {
        "id": "UgCJlJdtdr4B"
      }
    },
    {
      "cell_type": "markdown",
      "source": [
        "## ✅ Avaliação\n",
        "| Critério                    | Peso |\n",
        "|-----------------------------|------|\n",
        "| Aplicação de códigos        | 30%  |\n",
        "| Visualização de dados       | 20%  |\n",
        "| Clareza e interpretação     | 30%  |\n",
        "| Comunicação e apresentação  | 20%  |"
      ],
      "metadata": {
        "id": "zv-j0PYwdx1s"
      }
    }
  ]
}