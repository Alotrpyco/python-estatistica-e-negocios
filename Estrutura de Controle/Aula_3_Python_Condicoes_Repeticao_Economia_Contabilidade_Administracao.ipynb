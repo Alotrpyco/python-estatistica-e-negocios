{
  "cells": [
    {
      "cell_type": "markdown",
      "id": "022761b1",
      "metadata": {
        "id": "022761b1"
      },
      "source": [
        "# 📘 Aula 3 – Estruturas de Decisão e Repetição\n",
        "**Objetivos da Aula**:\n",
        "- Compreender e utilizar estruturas de decisão (`if`, `else`, `elif`).\n",
        "- Compreender e aplicar laços de repetição (`for`, `while`).\n",
        "- Construir scripts com lógica condicional aplicados a problemas de negócios.\n",
        "- Utilizar loops para cálculos iterativos e simulações econômicas."
      ]
    },
    {
      "cell_type": "markdown",
      "id": "db656135",
      "metadata": {
        "id": "db656135"
      },
      "source": [
        "## ✅ Parte 1 – Estruturas de Decisão (`if`, `elif`, `else`)"
      ]
    },
    {
      "cell_type": "code",
      "execution_count": null,
      "id": "51ca4941",
      "metadata": {
        "id": "51ca4941",
        "colab": {
          "base_uri": "https://localhost:8080/"
        },
        "outputId": "ee85fb70-67db-47f7-9c0a-fb4d2e057e96"
      },
      "outputs": [
        {
          "output_type": "stream",
          "name": "stdout",
          "text": [
            "Informe o score de crédito do cliente: 610\n",
            "Risco: Moderado\n"
          ]
        }
      ],
      "source": [
        "score = int(input(\"Informe o score de crédito do cliente: \"))\n",
        "\n",
        "if score >= 800:\n",
        "    print(\"Risco: Muito baixo\")\n",
        "elif score >= 600:\n",
        "    print(\"Risco: Moderado\")\n",
        "else:\n",
        "    print(\"Risco: Alto\")"
      ]
    },
    {
      "cell_type": "code",
      "source": [
        "nota=7.8\n",
        "\n",
        "if nota>=9.5:\n",
        "  print(\"L\")\n",
        "elif nota>=8.5:\n",
        "  print(\"MB\")\n",
        "elif nota>=7.5:\n",
        "  print(\"B\")\n",
        "elif nota >=6.5:\n",
        "  print(\"R\")\n",
        "elif nota >= 5.0:\n",
        "  print(\"I\")\n",
        "else:\n",
        "  print(\"D\")\n"
      ],
      "metadata": {
        "colab": {
          "base_uri": "https://localhost:8080/"
        },
        "id": "ZYhACXJl9QqU",
        "outputId": "7ca36882-d238-4758-fbc1-c3643d4b3bd2"
      },
      "id": "ZYhACXJl9QqU",
      "execution_count": null,
      "outputs": [
        {
          "output_type": "stream",
          "name": "stdout",
          "text": [
            "B\n"
          ]
        }
      ]
    },
    {
      "cell_type": "code",
      "source": [
        "nota = 6.5\n",
        "\n",
        "if nota>=7:\n",
        "  print(\"Aprovado\")\n",
        "elif nota>=5:\n",
        "  print(\"Prova final\")\n",
        "else:\n",
        "  print(\"Reprovado\")"
      ],
      "metadata": {
        "colab": {
          "base_uri": "https://localhost:8080/"
        },
        "id": "FG6lxl-7-qMx",
        "outputId": "401edfe5-98c2-47ca-fcaf-a6136d2f1b9d"
      },
      "id": "FG6lxl-7-qMx",
      "execution_count": null,
      "outputs": [
        {
          "output_type": "stream",
          "name": "stdout",
          "text": [
            "Prova final\n"
          ]
        }
      ]
    },
    {
      "cell_type": "code",
      "execution_count": null,
      "id": "4a2cdfe2",
      "metadata": {
        "id": "4a2cdfe2",
        "colab": {
          "base_uri": "https://localhost:8080/"
        },
        "outputId": "06523a1d-ddb4-4611-bfaa-428aa322a5e7"
      },
      "outputs": [
        {
          "output_type": "stream",
          "name": "stdout",
          "text": [
            "Digite a renda mensal (em R$): 50000\n",
            "Alíquota de 27,5%\n"
          ]
        }
      ],
      "source": [
        "renda = float(input(\"Digite a renda mensal (em R$): \"))\n",
        "\n",
        "if renda <= 2112:\n",
        "    print(\"Isento de IR\")\n",
        "elif renda <= 2826.65:\n",
        "    print(\"Alíquota de 7,5%\")\n",
        "elif renda <= 3751.05:\n",
        "    print(\"Alíquota de 15%\")\n",
        "else:\n",
        "    print(\"Alíquota de 27,5%\")"
      ]
    },
    {
      "cell_type": "code",
      "source": [
        "#ax^2 +bx + c=0\n",
        "\n",
        "a=1\n",
        "b=-6\n",
        "c=5\n",
        "\n",
        "delta=(b**2)-4*a*c\n",
        "\n",
        "if a==0:\n",
        "  print(\"a equação não é de segundo grau\")\n",
        "elif delta>=0:\n",
        "  x1=(-b+(delta**0.5))/(2*a)\n",
        "  x2=(-b-(delta**0.5))/(2*a)\n",
        "  print(\"x1=\",x1)\n",
        "  print(\"x2=\",x2)\n",
        "else:\n",
        "  print(\"a equação não possui raízes reais\")\n"
      ],
      "metadata": {
        "colab": {
          "base_uri": "https://localhost:8080/"
        },
        "id": "Vdq3P2dPBiuV",
        "outputId": "ae24f9e9-3125-4732-aa2f-0e0a401fffff"
      },
      "id": "Vdq3P2dPBiuV",
      "execution_count": null,
      "outputs": [
        {
          "output_type": "stream",
          "name": "stdout",
          "text": [
            "x1= 5.0\n",
            "x2= 1.0\n"
          ]
        }
      ]
    },
    {
      "cell_type": "markdown",
      "id": "b96aea1b",
      "metadata": {
        "id": "b96aea1b"
      },
      "source": [
        "## 🔁 Parte 2 – Estruturas de Repetição"
      ]
    },
    {
      "cell_type": "code",
      "execution_count": null,
      "id": "47416f5e",
      "metadata": {
        "id": "47416f5e",
        "colab": {
          "base_uri": "https://localhost:8080/"
        },
        "outputId": "cd8cbd6b-dc2b-4225-bc30-0833fb0838d6"
      },
      "outputs": [
        {
          "output_type": "stream",
          "name": "stdout",
          "text": [
            "Tentativa número 1\n",
            "Tentativa número 2\n",
            "Tentativa número 3\n",
            "Tentativa número 4\n",
            "Tentativa número 5\n"
          ]
        }
      ],
      "source": [
        "for i in range(1, 6):\n",
        "    print(\"Tentativa número\", i)"
      ]
    },
    {
      "cell_type": "code",
      "execution_count": null,
      "id": "10725871",
      "metadata": {
        "id": "10725871",
        "colab": {
          "base_uri": "https://localhost:8080/"
        },
        "outputId": "261ea94d-22a8-4e92-efce-94d2d16a7c9c"
      },
      "outputs": [
        {
          "output_type": "stream",
          "name": "stdout",
          "text": [
            "Relatório de: Jan\n",
            "Relatório de: Fev\n",
            "Relatório de: Mar\n",
            "Relatório de: Abr\n",
            "Relatório de: Mai\n",
            "Relatório de: Jun\n"
          ]
        }
      ],
      "source": [
        "meses = [\"Jan\", \"Fev\", \"Mar\", \"Abr\", \"Mai\", \"Jun\"]\n",
        "\n",
        "for mes in meses:\n",
        "    print(\"Relatório de:\", mes)"
      ]
    },
    {
      "cell_type": "code",
      "source": [
        "nomes=[\"Adhemar\", \"Wanderigleisson\", \"Sabinadsson\", \"Maderilaine\"]\n",
        "\n",
        "for nome in nomes:\n",
        "  print(nome)"
      ],
      "metadata": {
        "colab": {
          "base_uri": "https://localhost:8080/"
        },
        "id": "I7SEnpBXFgkS",
        "outputId": "fdc7286f-0064-48e9-88e0-d946d424afcb"
      },
      "id": "I7SEnpBXFgkS",
      "execution_count": null,
      "outputs": [
        {
          "output_type": "stream",
          "name": "stdout",
          "text": [
            "Adhemar\n",
            "Wanderigleisson\n",
            "Sabinadsson\n",
            "Maderilaine\n"
          ]
        }
      ]
    },
    {
      "cell_type": "code",
      "execution_count": null,
      "id": "4202fc7f",
      "metadata": {
        "id": "4202fc7f",
        "colab": {
          "base_uri": "https://localhost:8080/"
        },
        "outputId": "93400b2a-407d-4921-95fb-c04f0317e202"
      },
      "outputs": [
        {
          "output_type": "stream",
          "name": "stdout",
          "text": [
            "Saldo restante: R$ 1000\n",
            "Saldo restante: R$ 800\n",
            "Saldo restante: R$ 600\n",
            "Saldo restante: R$ 400\n",
            "Saldo restante: R$ 200\n"
          ]
        }
      ],
      "source": [
        "saldo = 1000\n",
        "parcela = 200\n",
        "\n",
        "while saldo > 0:\n",
        "    print(\"Saldo restante: R$\", saldo)\n",
        "    saldo -= parcela"
      ]
    },
    {
      "cell_type": "markdown",
      "id": "7d8e6815",
      "metadata": {
        "id": "7d8e6815"
      },
      "source": [
        "## 💼 Parte 3 – Aplicações Práticas"
      ]
    },
    {
      "cell_type": "code",
      "execution_count": null,
      "id": "d5d5f72d",
      "metadata": {
        "id": "d5d5f72d",
        "colab": {
          "base_uri": "https://localhost:8080/"
        },
        "outputId": "05ebc6a2-29b4-4467-deae-02cd75275ac3"
      },
      "outputs": [
        {
          "output_type": "stream",
          "name": "stdout",
          "text": [
            "Mês 1: R$ 1020.00\n",
            "Mês 2: R$ 1040.40\n",
            "Mês 3: R$ 1061.21\n",
            "Mês 4: R$ 1082.43\n",
            "Mês 5: R$ 1104.08\n",
            "Mês 6: R$ 1126.16\n",
            "Mês 7: R$ 1148.69\n",
            "Mês 8: R$ 1171.66\n",
            "Mês 9: R$ 1195.09\n",
            "Mês 10: R$ 1218.99\n",
            "Mês 11: R$ 1243.37\n",
            "Mês 12: R$ 1268.24\n"
          ]
        }
      ],
      "source": [
        "capital = 1000\n",
        "taxa = 0.02  # 2% ao mês\n",
        "\n",
        "for mes in range(1, 13):\n",
        "    capital *= (1 + taxa)\n",
        "    print(f\"Mês {mes}: R$ {capital:.2f}\")\n",
        "    #print(\"Mês {}: R$ {:.2f}\".format(mes, capital))\n",
        "    #print(\"Mês \", mes, \"R$ \", capital )"
      ]
    },
    {
      "cell_type": "code",
      "execution_count": null,
      "id": "4b24c5d3",
      "metadata": {
        "id": "4b24c5d3",
        "colab": {
          "base_uri": "https://localhost:8080/"
        },
        "outputId": "8edd07ed-28cc-464a-a8f4-8972086b1482"
      },
      "outputs": [
        {
          "output_type": "stream",
          "name": "stdout",
          "text": [
            "Mês 1: lucro = R$ 2500\n",
            "Mês 2: lucro = R$ 2700\n",
            "Mês 3: lucro = R$ 3000\n",
            "Mês 4: lucro = R$ 2800\n",
            "Mês 5: lucro = R$ 2600\n",
            "Mês 6: lucro = R$ 3100\n",
            "Mês 7: lucro = R$ 3200\n",
            "Mês 8: lucro = R$ 2900\n",
            "Mês 9: lucro = R$ 3000\n",
            "Mês 10: lucro = R$ 3300\n",
            "Mês 11: lucro = R$ 3400\n",
            "Mês 12: lucro = R$ 3500\n"
          ]
        }
      ],
      "source": [
        "lucros = [2500, 2700, 3000, 2800, 2600, 3100, 3200, 2900, 3000, 3300, 3400, 3500]\n",
        "\n",
        "for i in range(len(lucros)):\n",
        "    print(f\"Mês {i+1}: lucro = R$ {lucros[i]}\")"
      ]
    },
    {
      "cell_type": "markdown",
      "id": "572ee178",
      "metadata": {
        "id": "572ee178"
      },
      "source": [
        "## 📝 Parte 4 – Exercícios\n",
        "### 🔹 Exercício 1\n",
        "Peça ao usuário o valor de 5 vendas e armazene-as em uma lista.\n",
        "Depois, use um `for` para somar os valores e calcular a média.\n",
        "\n",
        "### 🔹 Exercício 2\n",
        "Use um `while` para simular o saldo de uma conta bancária que sofre um saque de R\\$ 100 por mês até zerar.\n",
        "Comece com R\\$ 1000 e exiba o saldo a cada mês.\n",
        "\n",
        "### 🔹 Exercício 3\n",
        "Crie um programa que peça ao usuário a nota de 3 provas e calcule:\n",
        "- A média final\n",
        "- Uma mensagem com:\n",
        "  - “Aprovado” se média ≥ 7\n",
        "  - “Recuperação” se média ≥ 5\n",
        "  - “Reprovado” caso contrário"
      ]
    },
    {
      "cell_type": "code",
      "source": [
        "# Exercício 1\n",
        "\n",
        "vendas = [1000, 2500, 3200, 2700, 2900]\n",
        "\n",
        "contador=0\n",
        "soma=0\n",
        "\n",
        "for j in vendas:\n",
        "\n",
        "  soma=soma+j # acumulando as vendas\n",
        "  print(soma)\n",
        "  contador=contador+1 #contando o número de vendas\n",
        "  print(contador)\n",
        "\n",
        "media=soma/contador\n",
        "\n",
        "print(media)"
      ],
      "metadata": {
        "colab": {
          "base_uri": "https://localhost:8080/"
        },
        "id": "qsdY2r-yJ3WO",
        "outputId": "b72de3c2-350f-49ef-bcff-e53bd16263c4"
      },
      "id": "qsdY2r-yJ3WO",
      "execution_count": null,
      "outputs": [
        {
          "output_type": "stream",
          "name": "stdout",
          "text": [
            "1000\n",
            "1\n",
            "3500\n",
            "2\n",
            "6700\n",
            "3\n",
            "9400\n",
            "4\n",
            "12300\n",
            "5\n",
            "2460.0\n"
          ]
        }
      ]
    },
    {
      "cell_type": "markdown",
      "id": "5e7d8727",
      "metadata": {
        "id": "5e7d8727"
      },
      "source": [
        "## 🧩 Tarefa para Casa\n",
        "Crie um programa que:\n",
        "1. Solicite ao usuário o **valor de 4 despesas fixas mensais** (ex: aluguel, energia, internet, alimentação).\n",
        "2. Some todos os valores das despesas em uma variável `total_despesas`.\n",
        "3. Solicite a **receita mensal** do usuário.\n",
        "4. Calcule e exiba o **lucro ou prejuízo mensal** (receita - total_despesas).\n",
        "5. Exiba uma mensagem final:\n",
        "   - Se o saldo for positivo: “Você teve um lucro de R\\$ X”\n",
        "   - Se for negativo: “Você teve um prejuízo de R\\$ X”\n",
        "   - Se for zero: “Suas contas fecharam no zero a zero”\n"
      ]
    }
  ],
  "metadata": {
    "colab": {
      "provenance": []
    },
    "language_info": {
      "name": "python"
    },
    "kernelspec": {
      "name": "python3",
      "display_name": "Python 3"
    }
  },
  "nbformat": 4,
  "nbformat_minor": 5
}