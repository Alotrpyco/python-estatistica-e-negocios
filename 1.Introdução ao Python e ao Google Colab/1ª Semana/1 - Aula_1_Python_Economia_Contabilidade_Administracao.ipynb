{
  "cells": [
    {
      "cell_type": "markdown",
      "id": "686907fb",
      "metadata": {
        "id": "686907fb"
      },
      "source": [
        "# 📘 Aula 1 – Introdução ao Python e ao Google Colab\n",
        "**Objetivos da Aula**:\n",
        "- Compreender o que é Python e como ele pode ser usado nas ciências econômicas e empresariais.\n",
        "- Conhecer o ambiente Google Colab.\n",
        "- Usar variáveis e operadores para realizar cálculos simples."
      ]
    },
    {
      "cell_type": "markdown",
      "id": "81198baa",
      "metadata": {
        "id": "81198baa"
      },
      "source": [
        "## 🧠 Parte 1 – O que é Python e como vamos usá-lo?\n",
        "Python é uma linguagem de programação **simples, moderna e poderosa**, usada em:\n",
        "- **Análise de dados econômicos** (PIB, inflação, câmbio etc.)\n",
        "- **Automatização de tarefas contábeis**\n",
        "- **Modelagem de negócios e simulação de cenários**\n",
        "- **Machine learning (IA)**\n",
        "\n",
        "### 📌 Por que Python?\n",
        "- Código legível e simples.\n",
        "- Muita documentação e exemplos.\n",
        "- Gratuito e com milhares de bibliotecas prontas.\n",
        "- Excelente para **trabalhar com dados** (Excel, CSV, gráficos, bancos de dados)."
      ]
    },
    {
      "cell_type": "markdown",
      "id": "b09cf1dd",
      "metadata": {
        "id": "b09cf1dd"
      },
      "source": [
        "## 💻 Parte 2 – Usando o Google Colab\n",
        "O [Google Colab](https://colab.research.google.com) permite escrever e rodar códigos Python **direto no navegador**, sem instalar nada.\n",
        "\n",
        "### Vantagens:\n",
        "- Salva no Google Drive.\n",
        "- Compartilhamento fácil.\n",
        "- Ideal para ensino e colaboração."
      ]
    },
    {
      "cell_type": "markdown",
      "id": "eddd9f40",
      "metadata": {
        "id": "eddd9f40"
      },
      "source": [
        "## ✏️ Parte 3 – Primeiros comandos em Python"
      ]
    },
    {
      "cell_type": "markdown",
      "source": [
        "comentário - não é lido pelo computador"
      ],
      "metadata": {
        "id": "KWrMqHdjWESj"
      },
      "id": "KWrMqHdjWESj"
    },
    {
      "cell_type": "code",
      "source": [
        "# este é um comentário. O computador não o lê."
      ],
      "metadata": {
        "id": "qDPQqSv2WPKH"
      },
      "id": "qDPQqSv2WPKH",
      "execution_count": null,
      "outputs": []
    },
    {
      "cell_type": "code",
      "execution_count": null,
      "id": "536f34db",
      "metadata": {
        "colab": {
          "base_uri": "https://localhost:8080/"
        },
        "id": "536f34db",
        "outputId": "1c66202c-0307-492d-8345-57893890d8ac"
      },
      "outputs": [
        {
          "output_type": "stream",
          "name": "stdout",
          "text": [
            "Bem-vindos ao curso de Python para Economia e Negócios!\n"
          ]
        }
      ],
      "source": [
        "# Exibe uma mensagem simples na tela\n",
        "print(\"Bem-vindos ao curso de Python para Economia e Negócios!\")"
      ]
    },
    {
      "cell_type": "markdown",
      "id": "68e0aa87",
      "metadata": {
        "id": "68e0aa87"
      },
      "source": [
        "## 🧮 Parte 4 – Variáveis e Tipos de Dados\n",
        "Uma variável guarda um valor. Exemplo:"
      ]
    },
    {
      "cell_type": "code",
      "execution_count": null,
      "id": "8ca82dd7",
      "metadata": {
        "colab": {
          "base_uri": "https://localhost:8080/"
        },
        "id": "8ca82dd7",
        "outputId": "32bb852a-b179-4aad-8476-a6a0626c851c"
      },
      "outputs": [
        {
          "output_type": "stream",
          "name": "stdout",
          "text": [
            "Notebook 10 3200.5 True\n"
          ]
        }
      ],
      "source": [
        "produto = \"Notebook\" #str string (cadeia de caracteres)\n",
        "quantidade = 10 #int numero inteiro\n",
        "preco_unitario = 3200.50 #float ponto flutuante (numero não inteiro)\n",
        "estoque_ativo = True #bool booleana (tipo lógico)\n",
        "print(produto, quantidade, preco_unitario, estoque_ativo)"
      ]
    },
    {
      "cell_type": "markdown",
      "source": [
        "Cuidado! Há nomes de variáveis que são proibidos"
      ],
      "metadata": {
        "id": "5HNg9musx01j"
      },
      "id": "5HNg9musx01j"
    },
    {
      "cell_type": "code",
      "source": [
        "#1as=7 #não pode começar por número\n",
        "#a!e=3 não pode ter caracteres especiais em nenhuma parte ($%!@#&...)\n",
        "#a b =3 # não pode haver espaco em uma variável\n",
        "variavel_beta=5"
      ],
      "metadata": {
        "id": "evdeu1zHx61P"
      },
      "id": "evdeu1zHx61P",
      "execution_count": null,
      "outputs": []
    },
    {
      "cell_type": "markdown",
      "source": [
        "Descobrindo o tipo de variável"
      ],
      "metadata": {
        "id": "AKZsqwPwV5yc"
      },
      "id": "AKZsqwPwV5yc"
    },
    {
      "cell_type": "code",
      "source": [
        "type(produto)"
      ],
      "metadata": {
        "colab": {
          "base_uri": "https://localhost:8080/"
        },
        "id": "fDBcC-G3zFGL",
        "outputId": "0c0911f7-187d-4aab-cb1b-3e2f62446eb8"
      },
      "id": "fDBcC-G3zFGL",
      "execution_count": null,
      "outputs": [
        {
          "output_type": "execute_result",
          "data": {
            "text/plain": [
              "str"
            ]
          },
          "metadata": {},
          "execution_count": 21
        }
      ]
    },
    {
      "cell_type": "code",
      "source": [
        "print(type(produto), type(quantidade), type(preco_unitario), type(estoque_ativo))"
      ],
      "metadata": {
        "colab": {
          "base_uri": "https://localhost:8080/"
        },
        "id": "j_qlYX9XV21u",
        "outputId": "4f6899be-a961-4c67-b40f-066ff636b1e9"
      },
      "id": "j_qlYX9XV21u",
      "execution_count": null,
      "outputs": [
        {
          "output_type": "stream",
          "name": "stdout",
          "text": [
            "<class 'str'> <class 'int'> <class 'float'> <class 'bool'>\n"
          ]
        }
      ]
    },
    {
      "cell_type": "markdown",
      "id": "49866406",
      "metadata": {
        "id": "49866406"
      },
      "source": [
        "## ➗ Parte 5 – Operadores Aritméticos"
      ]
    },
    {
      "cell_type": "code",
      "source": [
        "a=10\n",
        "b=4\n",
        "c=a+b\n",
        "d=10+4\n",
        "print(c)\n",
        "print(d) # cuidado! c é diferente de d"
      ],
      "metadata": {
        "colab": {
          "base_uri": "https://localhost:8080/"
        },
        "id": "eS58unlw0VAF",
        "outputId": "cb819f30-5fdc-480f-f91b-a087bb81bb80"
      },
      "id": "eS58unlw0VAF",
      "execution_count": null,
      "outputs": [
        {
          "output_type": "stream",
          "name": "stdout",
          "text": [
            "9\n",
            "14\n"
          ]
        }
      ]
    },
    {
      "cell_type": "code",
      "execution_count": null,
      "id": "2866cdd7",
      "metadata": {
        "colab": {
          "base_uri": "https://localhost:8080/"
        },
        "id": "2866cdd7",
        "outputId": "0914d11d-cac6-471b-d4ed-31816b249198"
      },
      "outputs": [
        {
          "output_type": "stream",
          "name": "stdout",
          "text": [
            "Soma: 14\n",
            "Subtração: 6\n",
            "Multiplicação: 40\n",
            "Divisão: 2.5\n",
            "Divisão inteira: 2\n",
            "Resto da divisão: 2\n",
            "Potência: 10000\n"
          ]
        }
      ],
      "source": [
        "a = 10\n",
        "b = 4\n",
        "print(\"Soma:\", a + b)\n",
        "print(\"Subtração:\", a - b)\n",
        "print(\"Multiplicação:\", a * b)\n",
        "print(\"Divisão:\", a / b)\n",
        "print(\"Divisão inteira:\", a // b)\n",
        "print(\"Resto da divisão:\", a % b)\n",
        "print(\"Potência:\", a ** b)"
      ]
    },
    {
      "cell_type": "code",
      "source": [
        "a=3\n",
        "a=a+1\n",
        "print(a)\n",
        "\n",
        "b=3\n",
        "b+=1 #b=b+1\n",
        "\n",
        "print(b)\n",
        "\n",
        "c=3\n",
        "c-=2 #c=c-2\n",
        "\n",
        "print(c)\n"
      ],
      "metadata": {
        "colab": {
          "base_uri": "https://localhost:8080/"
        },
        "id": "XcVJvlGf6Fna",
        "outputId": "08e36962-67ee-463d-d019-f1006c3fdb28"
      },
      "id": "XcVJvlGf6Fna",
      "execution_count": null,
      "outputs": [
        {
          "output_type": "stream",
          "name": "stdout",
          "text": [
            "4\n",
            "4\n",
            "1\n"
          ]
        }
      ]
    },
    {
      "cell_type": "code",
      "source": [
        "a=1\n",
        "a=a+1\n",
        "a=a+2\n",
        "print(a)"
      ],
      "metadata": {
        "colab": {
          "base_uri": "https://localhost:8080/"
        },
        "id": "LiErRbxY6_7V",
        "outputId": "ce8baf59-8e2f-4a94-b97b-06235a1be720"
      },
      "id": "LiErRbxY6_7V",
      "execution_count": null,
      "outputs": [
        {
          "output_type": "stream",
          "name": "stdout",
          "text": [
            "4\n"
          ]
        }
      ]
    },
    {
      "cell_type": "markdown",
      "id": "354b9d3d",
      "metadata": {
        "id": "354b9d3d"
      },
      "source": [
        "## 💼 Parte 6 – Cálculo de Receita e Lucro"
      ]
    },
    {
      "cell_type": "code",
      "execution_count": null,
      "id": "aeb8a930",
      "metadata": {
        "colab": {
          "base_uri": "https://localhost:8080/"
        },
        "id": "aeb8a930",
        "outputId": "6d9147fd-87f3-463a-97c2-f7202d0952a4"
      },
      "outputs": [
        {
          "output_type": "stream",
          "name": "stdout",
          "text": [
            "Lucro por unidade: 50\n",
            "Lucro total: 10000\n"
          ]
        }
      ],
      "source": [
        "preco_venda = 150\n",
        "custo_unitario = 100\n",
        "quantidade_vendida = 200\n",
        "lucro_unitario = preco_venda - custo_unitario\n",
        "lucro_total = lucro_unitario * quantidade_vendida\n",
        "print(\"Lucro por unidade:\", lucro_unitario)\n",
        "print(\"Lucro total:\", lucro_total)"
      ]
    },
    {
      "cell_type": "markdown",
      "id": "f5e88091",
      "metadata": {
        "id": "f5e88091"
      },
      "source": [
        "## 📝 Parte 7 – Exercícios\n",
        "### 🔹 Exercício 1\n",
        "Crie variáveis para representar:\n",
        "- Nome de um produto\n",
        "- Quantidade em estoque\n",
        "- Preço de compra\n",
        "- Preço de venda\n",
        "\n",
        "Depois:\n",
        "- Calcule e exiba o **lucro por unidade**\n",
        "- Calcule e exiba o **lucro total**"
      ]
    },
    {
      "cell_type": "code",
      "source": [
        "nome_produto=\"Caneta\"\n",
        "quantidade_estoque=100\n",
        "preco_compra=1.50\n",
        "preco_venda=2.0\n",
        "\n",
        "lucro_unidade=preco_venda-preco_compra\n",
        "lucro_total=lucro_unidade*quantidade_estoque\n",
        "\n",
        "print(\"Lucro por unidade de\", nome_produto, \":\", lucro_unidade)\n",
        "print(\"Lucro total:\", lucro_total)"
      ],
      "metadata": {
        "colab": {
          "base_uri": "https://localhost:8080/"
        },
        "id": "K3YLQsti78W1",
        "outputId": "211c32e9-4c26-4e3f-aeda-ae90b7c19423"
      },
      "id": "K3YLQsti78W1",
      "execution_count": null,
      "outputs": [
        {
          "output_type": "stream",
          "name": "stdout",
          "text": [
            "Lucro por unidade de Caneta : 0.5\n",
            "Lucro total: 50.0\n"
          ]
        }
      ]
    },
    {
      "cell_type": "code",
      "source": [
        "nome_produto=input(\"Coloque o nome do produto: \")\n",
        "quantidade_estoque=input(\"Coloque a quantidade em estoque: \")\n",
        "quantidade_estoque=int(quantidade_estoque)\n",
        "preco_compra=input(\"Coloque o preço de compra: \")\n",
        "preco_compra=float(preco_compra)\n",
        "preco_venda=input(\"Coloque o preço de venda: \")\n",
        "preco_venda=float(preco_venda)\n",
        "\n",
        "lucro_unidade=preco_venda-preco_compra\n",
        "\n",
        "lucro_total=lucro_unidade*quantidade_estoque\n",
        "\n",
        "print(\"Lucro por unidade de\", nome_produto, \":\", lucro_unidade)\n",
        "print(\"Lucro total:\", lucro_total)"
      ],
      "metadata": {
        "colab": {
          "base_uri": "https://localhost:8080/"
        },
        "id": "bxKQnCLx9CNn",
        "outputId": "63408a6c-1792-4698-fe09-ed0fd363b869"
      },
      "id": "bxKQnCLx9CNn",
      "execution_count": null,
      "outputs": [
        {
          "output_type": "stream",
          "name": "stdout",
          "text": [
            "Coloque o nome do produto: Caneta\n",
            "Coloque a quantidade em estoque: 100\n",
            "Coloque o preço de compra: 1.30\n",
            "Coloque o preço de venda: 2\n",
            "Lucro por unidade de Caneta : 0.7\n",
            "Lucro total: 70.0\n"
          ]
        }
      ]
    },
    {
      "cell_type": "markdown",
      "id": "578835d3",
      "metadata": {
        "id": "578835d3"
      },
      "source": [
        "### 🔹 Exercício 2\n",
        "Um trabalhador autônomo realizou **15 serviços no mês**. Cada serviço foi cobrado a **R\\$ 180,00**. Ele teve **R\\$ 550,00 de despesas** com transporte e alimentação.\n",
        "\n",
        "Calcule:\n",
        "- Receita total\n",
        "- Despesas totais\n",
        "- Lucro final"
      ]
    },
    {
      "cell_type": "markdown",
      "id": "5d3dbae6",
      "metadata": {
        "id": "5d3dbae6"
      },
      "source": [
        "## 📚 Parte 8 – Recapitulando\n",
        "| Conceito       | Aprendido nesta aula                 |\n",
        "|----------------|--------------------------------------|\n",
        "| Python         | Linguagem para dados e automação     |\n",
        "| Google Colab   | Ambiente de execução online          |\n",
        "| Variáveis      | Armazenam valores                    |\n",
        "| Tipos          | `int`, `float`, `str`, `bool`        |\n",
        "| Operadores     | Operações matemáticas básicas        |\n",
        "| Aplicação      | Cálculo de lucro, receita, estoque   |"
      ]
    },
    {
      "cell_type": "markdown",
      "id": "33758c68",
      "metadata": {
        "id": "33758c68"
      },
      "source": [
        "## 🧩 Tarefa para Casa (opcional)\n",
        "Escreva um código que calcule o **lucro mensal** de um pequeno negócio que:\n",
        "- Vende **3 produtos diferentes**, cada um com seu preço de venda, preço de custo e quantidade vendida.\n",
        "- Tem um **custo fixo mensal de R$ 2.000,00**.\n",
        "\n",
        "Seu código deve:\n",
        "1. Calcular o lucro por unidade de cada produto\n",
        "2. Calcular o lucro total de cada produto (lucro por unidade × quantidade)\n",
        "3. Somar os lucros e subtrair o custo fixo para obter o lucro líquido mensal\n",
        "\n",
        "💡 Dica: Use variáveis diferentes para cada produto e mantenha tudo bem organizado com `print()`s explicativos."
      ]
    }
  ],
  "metadata": {
    "colab": {
      "provenance": []
    },
    "language_info": {
      "name": "python"
    },
    "kernelspec": {
      "name": "python3",
      "display_name": "Python 3"
    }
  },
  "nbformat": 4,
  "nbformat_minor": 5
}