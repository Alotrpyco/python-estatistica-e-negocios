{
 "cells": [
  {
   "cell_type": "markdown",
   "id": "28884c1c",
   "metadata": {},
   "source": [
    "# 📊 Aula 7 – Estatística Básica com `pandas`\n",
    "**Objetivos da Aula**:\n",
    "- Compreender e aplicar medidas estatísticas descritivas em DataFrames.\n",
    "- Usar funções de agregação como `mean()`, `median()`, `std()`, `describe()`.\n",
    "- Agrupar dados com `groupby()`.\n",
    "- Realizar comparações entre categorias."
   ]
  },
  {
   "cell_type": "markdown",
   "id": "c66689be",
   "metadata": {},
   "source": [
    "## 🔢 Parte 1 – Estatísticas descritivas"
   ]
  },
  {
   "cell_type": "code",
   "execution_count": null,
   "id": "de9b4625",
   "metadata": {},
   "outputs": [],
   "source": [
    "import pandas as pd\n",
    "\n",
    "df = pd.read_csv(\"vendas_ausente.csv\", sep=\";\", decimal=\",\")\n",
    "\n",
    "df.describe()"
   ]
  },
  {
   "cell_type": "code",
   "execution_count": null,
   "id": "2c08bb9c",
   "metadata": {},
   "outputs": [],
   "source": [
    "print(\"Média:\", df[\"valor_total\"].mean())\n",
    "print(\"Mediana:\", df[\"valor_total\"].median())"
   ]
  },
  {
   "cell_type": "code",
   "execution_count": null,
   "id": "f35620ab",
   "metadata": {},
   "outputs": [],
   "source": [
    "print(\"Desvio padrão:\", df[\"valor_total\"].std())\n",
    "print(\"Máximo:\", df[\"valor_total\"].max())\n",
    "print(\"Mínimo:\", df[\"valor_total\"].min())"
   ]
  },
  {
   "cell_type": "markdown",
   "id": "ff9b1567",
   "metadata": {},
   "source": [
    "## 🔗 Parte 2 – Agrupando dados com `groupby()`"
   ]
  },
  {
   "cell_type": "code",
   "execution_count": null,
   "id": "b7354619",
   "metadata": {},
   "outputs": [],
   "source": [
    "agrupado = df.groupby(\"produto\")[\"valor_total\"].mean()\n",
    "print(agrupado)"
   ]
  },
  {
   "cell_type": "code",
   "execution_count": null,
   "id": "5bd67a05",
   "metadata": {},
   "outputs": [],
   "source": [
    "contagem = df.groupby(\"produto\").count()\n",
    "contagem[[\"quantidade\"]]"
   ]
  },
  {
   "cell_type": "markdown",
   "id": "1482cc4e",
   "metadata": {},
   "source": [
    "## 📊 Parte 3 – Contagem de valores com `value_counts()`"
   ]
  },
  {
   "cell_type": "code",
   "execution_count": null,
   "id": "490e2748",
   "metadata": {},
   "outputs": [],
   "source": [
    "df[\"produto\"].value_counts()"
   ]
  },
  {
   "cell_type": "markdown",
   "id": "18a2257b",
   "metadata": {},
   "source": [
    "## 🧹 Parte 4 – Lidando com valores ausentes"
   ]
  },
  {
   "cell_type": "code",
   "execution_count": null,
   "id": "4e0d715f",
   "metadata": {},
   "outputs": [],
   "source": [
    "valores = df[\"valor_total\"].fillna(0)\n",
    "print(\"Média com ausentes tratados:\", valores.mean())"
   ]
  },
  {
   "cell_type": "markdown",
   "id": "ad17c5b4",
   "metadata": {},
   "source": [
    "## 📝 Parte 5 – Exercícios\n",
    "### 🔸 Exercício 1\n",
    "Calcule a média, mediana e desvio padrão da coluna `quantidade`.\n",
    "\n",
    "### 🔸 Exercício 2\n",
    "Crie um agrupamento com a média do `valor_total` por `produto`.\n",
    "\n",
    "### 🔸 Exercício 3\n",
    "Mostre quantas vendas ocorreram de cada produto com `value_counts()`.\n",
    "\n",
    "### 🔸 Exercício 4\n",
    "Qual produto teve maior média de `valor_total` por venda?"
   ]
  },
  {
   "cell_type": "markdown",
   "id": "5accee05",
   "metadata": {},
   "source": [
    "## 🔁 Parte 6 – Revisão\n",
    "| Comando                          | Ação                                      |\n",
    "|----------------------------------|-------------------------------------------|\n",
    "| `df.describe()`                  | Estatísticas básicas                      |\n",
    "| `df[\"coluna\"].mean()`            | Média                                     |\n",
    "| `df[\"coluna\"].median()`          | Mediana                                   |\n",
    "| `df[\"coluna\"].std()`             | Desvio padrão                             |\n",
    "| `df.groupby(\"coluna\")[...]`     | Agrupar por categorias                    |\n",
    "| `df[\"coluna\"].value_counts()`    | Frequência de valores                     |"
   ]
  },
  {
   "cell_type": "markdown",
   "id": "b27b47ae",
   "metadata": {},
   "source": [
    "## 🧩 Tarefa para Casa\n",
    "Utilize o arquivo `vendas_ausente.csv`:\n",
    "1. Calcule a média e o desvio padrão da `preco_unitario`.\n",
    "2. Mostre a mediana de `valor_total` para cada produto (use `groupby`).\n",
    "3. Exiba qual produto teve maior número de vendas (com `value_counts`).\n",
    "4. Calcule a média de `quantidade` por mês (`data_venda` convertida para mês).\n",
    "\n",
    "### Dica para o item 4:\n",
    "```python\n",
    "df[\"data_venda\"] = pd.to_datetime(df[\"data_venda\"], errors='coerce')\n",
    "df[\"mes\"] = df[\"data_venda\"].dt.to_period(\"M\")\n",
    "df.groupby(\"mes\")[\"quantidade\"].mean()\n",
    "```"
   ]
  }
 ],
 "metadata": {},
 "nbformat": 4,
 "nbformat_minor": 5
}