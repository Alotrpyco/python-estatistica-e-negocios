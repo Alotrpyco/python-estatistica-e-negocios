{
 "cells": [
  {
   "cell_type": "markdown",
   "id": "1d035837",
   "metadata": {},
   "source": [
    "# 📈 Aula 8 – Visualização de Dados com `pandas` e `matplotlib`\n",
    "### 🎯 Objetivos da Aula:\n",
    "- Aprender a criar gráficos básicos com `pandas`\n",
    "- Personalizar gráficos com `matplotlib.pyplot`\n",
    "- Visualizar distribuições, comparações e tendências\n",
    "- Aplicar visualizações em dados reais"
   ]
  },
  {
   "cell_type": "markdown",
   "id": "fb4eab38",
   "metadata": {},
   "source": [
    "## 🧰 Importação de Bibliotecas"
   ]
  },
  {
   "cell_type": "code",
   "execution_count": null,
   "id": "2890ebed",
   "metadata": {},
   "outputs": [],
   "source": [
    "import pandas as pd\n",
    "import matplotlib.pyplot as plt\n",
    "\n",
    "%matplotlib inline\n",
    "plt.style.use('default')"
   ]
  },
  {
   "cell_type": "markdown",
   "id": "02832340",
   "metadata": {},
   "source": [
    "## 📊 Parte 1 – Gráfico de Barras (Bar Plot)"
   ]
  },
  {
   "cell_type": "code",
   "execution_count": null,
   "id": "2711d552",
   "metadata": {},
   "outputs": [],
   "source": [
    "df = pd.read_csv(\"vendas_ausente.csv\", sep=\";\", decimal=\",\")\n",
    "\n",
    "grupo = df.groupby(\"produto\")[\"valor_total\"].mean().sort_values()\n",
    "\n",
    "grupo.plot(kind=\"bar\", title=\"Média de Receita por Produto\")\n",
    "plt.ylabel(\"Valor médio\")\n",
    "plt.xlabel(\"Produto\")\n",
    "plt.tight_layout()\n",
    "plt.show()"
   ]
  },
  {
   "cell_type": "markdown",
   "id": "9245f219",
   "metadata": {},
   "source": [
    "## 🥧 Parte 2 – Gráfico de Pizza (Pie Plot)"
   ]
  },
  {
   "cell_type": "code",
   "execution_count": null,
   "id": "38949784",
   "metadata": {},
   "outputs": [],
   "source": [
    "df[\"produto\"].value_counts().plot(kind=\"pie\", autopct=\"%1.1f%%\", title=\"Participação nas Vendas\")\n",
    "plt.ylabel(\"\")\n",
    "plt.tight_layout()\n",
    "plt.show()"
   ]
  },
  {
   "cell_type": "markdown",
   "id": "19ebaaca",
   "metadata": {},
   "source": [
    "## 📈 Parte 3 – Gráfico de Linha (Line Plot) para Séries Temporais"
   ]
  },
  {
   "cell_type": "code",
   "execution_count": null,
   "id": "6feb92c4",
   "metadata": {},
   "outputs": [],
   "source": [
    "df[\"data_venda\"] = pd.to_datetime(df[\"data_venda\"], errors='coerce')\n",
    "df[\"mes\"] = df[\"data_venda\"].dt.to_period(\"M\")\n",
    "\n",
    "serie = df.groupby(\"mes\")[\"valor_total\"].sum()\n",
    "serie.plot(kind=\"line\", marker=\"o\", title=\"Receita Total por Mês\")\n",
    "plt.ylabel(\"Receita\")\n",
    "plt.xlabel(\"Mês\")\n",
    "plt.grid(True)\n",
    "plt.tight_layout()\n",
    "plt.show()"
   ]
  },
  {
   "cell_type": "markdown",
   "id": "c9cebfa9",
   "metadata": {},
   "source": [
    "## 🔵 Parte 4 – Gráfico de Dispersão (Scatter Plot)"
   ]
  },
  {
   "cell_type": "code",
   "execution_count": null,
   "id": "34a1f746",
   "metadata": {},
   "outputs": [],
   "source": [
    "df.plot(kind=\"scatter\", x=\"quantidade\", y=\"valor_total\", title=\"Relação entre Quantidade e Receita\")\n",
    "plt.grid(True)\n",
    "plt.tight_layout()\n",
    "plt.show()"
   ]
  },
  {
   "cell_type": "markdown",
   "id": "3f85ae9b",
   "metadata": {},
   "source": [
    "## 📝 Parte 5 – Exercícios\n",
    "**Exercício 1**  \n",
    "Crie um gráfico de barras com a média de `preco_unitario` por `produto`.\n",
    "\n",
    "**Exercício 2**  \n",
    "Crie um gráfico de pizza com a proporção de vendas por `produto`.\n",
    "\n",
    "**Exercício 3**  \n",
    "Crie um gráfico de linha com a soma de `quantidade` por mês.\n",
    "\n",
    "**Exercício 4**  \n",
    "Crie um gráfico de dispersão entre `preco_unitario` e `valor_total`."
   ]
  },
  {
   "cell_type": "markdown",
   "id": "fbaa0823",
   "metadata": {},
   "source": [
    "## 🔁 Parte 6 – Revisão\n",
    "| Gráfico        | Comando básico                                      |\n",
    "|----------------|-----------------------------------------------------|\n",
    "| Barras         | `df.plot(kind='bar')`                               |\n",
    "| Pizza          | `df.plot(kind='pie')`                               |\n",
    "| Linha          | `df.plot(kind='line')`                              |\n",
    "| Dispersão      | `df.plot(kind='scatter', x='...', y='...')`         |"
   ]
  },
  {
   "cell_type": "markdown",
   "id": "3e534cc4",
   "metadata": {},
   "source": [
    "## 🧩 Tarefa para Casa\n",
    "1. Crie um gráfico de barras com o total de `valor_total` por `produto`.  \n",
    "2. Crie um gráfico de linha mostrando a média de `preco_unitario` ao longo dos meses.  \n",
    "3. Crie um gráfico de dispersão entre `quantidade` e `preco_unitario`.  \n",
    "4. Crie um gráfico de pizza com a participação de cada `produto` no total de `valor_total`.\n",
    "\n",
    "### 💡 Dica:\n",
    "Você pode usar `groupby()` antes de cada gráfico para preparar os dados:\n",
    "\n",
    "```python\n",
    "df[\"data_venda\"] = pd.to_datetime(df[\"data_venda\"], errors=\"coerce\")\n",
    "df[\"mes\"] = df[\"data_venda\"].dt.to_period(\"M\")\n",
    "df.groupby(\"mes\")[\"quantidade\"].mean().plot(kind=\"line\")\n",
    "```"
   ]
  }
 ],
 "metadata": {},
 "nbformat": 4,
 "nbformat_minor": 5
}