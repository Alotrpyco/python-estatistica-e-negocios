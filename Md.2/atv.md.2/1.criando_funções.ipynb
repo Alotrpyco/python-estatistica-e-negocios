{
  "nbformat": 4,
  "nbformat_minor": 0,
  "metadata": {
    "colab": {
      "provenance": []
    },
    "kernelspec": {
      "name": "python3",
      "display_name": "Python 3"
    },
    "language_info": {
      "name": "python"
    }
  },
  "cells": [
    {
      "cell_type": "markdown",
      "source": [
        "Nome: Sérgio Ricardo Vieira Torres Silva\n",
        "\n",
        "Curso: Economia\n",
        "\n",
        "Matricula: 21211879\n"
      ],
      "metadata": {
        "id": "5oH6Q2hCiXG5"
      }
    },
    {
      "cell_type": "markdown",
      "source": [
        "## 📝 Exercício 1\n",
        "\n",
        "Crie uma função chamada `valor_total_venda` que:\n",
        "- Receba o **preço unitário** e a **quantidade vendida**.\n",
        "- Retorne o **valor total da venda**.\n",
        "\n",
        "Use: preço = 45.00, quantidade = 18\n",
        "\n",
        "\n",
        "\n",
        "\n",
        "\n"
      ],
      "metadata": {
        "id": "sOYR-JP_xR3Z"
      }
    },
    {
      "cell_type": "code",
      "source": [
        "def valor_total_venda(preço, quantidade):\n",
        "  valor_total = preço * quantidade\n",
        "  return valor_total\n",
        "print(\"valor total vendido:\", valor_total_venda(45.00, 18))"
      ],
      "metadata": {
        "colab": {
          "base_uri": "https://localhost:8080/"
        },
        "id": "JzechJSqfMED",
        "outputId": "2ef3389e-ab51-4987-de44-4ad85adbf6cb"
      },
      "execution_count": 23,
      "outputs": [
        {
          "output_type": "stream",
          "name": "stdout",
          "text": [
            "valor total vendido: 810.0\n"
          ]
        }
      ]
    },
    {
      "cell_type": "markdown",
      "source": [
        "##📝 Exercício 2\n",
        "Crie uma função `calcular_imposto_simples` que:\n",
        "- Receba o valor da venda e a alíquota do imposto.\n",
        "- Retorne o valor a pagar.\n",
        "\n",
        "Use: valor da venda = 5200.00, alíquota = 0.12"
      ],
      "metadata": {
        "id": "wR1jCfQYh8lW"
      }
    },
    {
      "cell_type": "code",
      "source": [
        "def calcular_imposto_simples(valor_da_venda, alíquota):\n",
        "  valor_a_pagar = valor_da_venda * alíquota\n",
        "  return valor_a_pagar\n",
        "print(\"valor a pagar de imposto é\", calcular_imposto_simples(5200.00, 0.12))"
      ],
      "metadata": {
        "id": "ZgyS7bbMxooz",
        "colab": {
          "base_uri": "https://localhost:8080/"
        },
        "outputId": "575420e6-24d7-446f-e1af-3734e3833322"
      },
      "execution_count": 24,
      "outputs": [
        {
          "output_type": "stream",
          "name": "stdout",
          "text": [
            "valor a pagar de imposto é 624.0\n"
          ]
        }
      ]
    },
    {
      "cell_type": "markdown",
      "source": [
        "##🧩 Tarefa para Casa\n",
        "Crie uma função chamada `calcular_dre` que:\n",
        "- Receba como parâmetros:\n",
        "  - Receita Bruta\n",
        "  - Custos\n",
        "  - Despesas Operacionais\n",
        "  - Impostos\n",
        "- Calcule o **lucro líquido** usando a fórmula:\n",
        "`Lucro líquido = Receita - Custos - Despesas - Impostos`\n",
        "\n",
        "Teste com os valores:\n",
        "- Receita: R\\$ 30.000\n",
        "- Custos: R\\$ 18.000\n",
        "- Despesas: R\\$ 5.000\n",
        "- Impostos: R\\$ 2.000"
      ],
      "metadata": {
        "id": "znBpz3I3jLe7"
      }
    },
    {
      "cell_type": "code",
      "source": [
        "#criando o modulo \"calcular_dre\"\n",
        "def calcular_dre(receita_bruta, custos, despesas_operacionais, impostos):\n",
        "  lucro_líquido = receita_bruta - custos - despesas_operacionais - impostos\n",
        "  return lucro_líquido\n",
        "print(\"o lucro líquido é\", calcular_dre(30000, 18000, 5000, 2000))"
      ],
      "metadata": {
        "colab": {
          "base_uri": "https://localhost:8080/"
        },
        "id": "PtGAxH5hjZ-s",
        "outputId": "f8932cb7-a9cf-4d28-ad32-378ea62fa205"
      },
      "execution_count": 25,
      "outputs": [
        {
          "output_type": "stream",
          "name": "stdout",
          "text": [
            "o lucro líquido é 5000\n"
          ]
        }
      ]
    }
  ]
}