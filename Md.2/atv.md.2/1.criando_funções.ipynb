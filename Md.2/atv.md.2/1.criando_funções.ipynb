{
  "cells": [
    {
      "cell_type": "markdown",
      "metadata": {
        "id": "5oH6Q2hCiXG5"
      },
      "source": [
        "Nome: Sérgio Ricardo Vieira Torres Silva\n",
        "\n",
        "Curso: Economia\n",
        "\n",
        "Matricula: 21211879\n"
      ]
    },
    {
      "cell_type": "markdown",
      "metadata": {
        "id": "sOYR-JP_xR3Z"
      },
      "source": [
        "## 📝 Exercício 1\n",
        "\n",
        "Crie uma função chamada `valor_total_venda` que:\n",
        "- Receba o **preço unitário** e a **quantidade vendida**.\n",
        "- Retorne o **valor total da venda**.\n",
        "\n",
        "Use: preço = 45.00, quantidade = 18\n",
        "\n",
        "\n",
        "\n",
        "\n",
        "\n"
      ]
    },
    {
      "cell_type": "code",
      "execution_count": 23,
      "metadata": {
        "colab": {
          "base_uri": "https://localhost:8080/"
        },
        "id": "JzechJSqfMED",
        "outputId": "2ef3389e-ab51-4987-de44-4ad85adbf6cb"
      },
      "outputs": [
        {
          "name": "stdout",
          "output_type": "stream",
          "text": [
            "valor total vendido: 810.0\n"
          ]
        }
      ],
      "source": [
        "def valor_total_venda(preço, quantidade):\n",
        "  valor_total = preço * quantidade\n",
        "  return valor_total\n",
        "print(\"valor total vendido:\", valor_total_venda(45.00, 18))"
      ]
    },
    {
      "cell_type": "markdown",
      "metadata": {
        "id": "wR1jCfQYh8lW"
      },
      "source": [
        "##📝 Exercício 2\n",
        "Crie uma função `calcular_imposto_simples` que:\n",
        "- Receba o valor da venda e a alíquota do imposto.\n",
        "- Retorne o valor a pagar.\n",
        "\n",
        "Use: valor da venda = 5200.00, alíquota = 0.12"
      ]
    },
    {
      "cell_type": "code",
      "execution_count": 24,
      "metadata": {
        "colab": {
          "base_uri": "https://localhost:8080/"
        },
        "id": "ZgyS7bbMxooz",
        "outputId": "575420e6-24d7-446f-e1af-3734e3833322"
      },
      "outputs": [
        {
          "name": "stdout",
          "output_type": "stream",
          "text": [
            "valor a pagar de imposto é 624.0\n"
          ]
        }
      ],
      "source": [
        "def calcular_imposto_simples(valor_da_venda, alíquota):\n",
        "  valor_a_pagar = valor_da_venda * alíquota\n",
        "  return valor_a_pagar\n",
        "print(\"valor a pagar de imposto é\", calcular_imposto_simples(5200.00, 0.12))"
      ]
    },
    {
      "cell_type": "markdown",
      "metadata": {
        "id": "znBpz3I3jLe7"
      },
      "source": [
        "##🧩 Tarefa para Casa\n",
        "Crie uma função chamada `calcular_dre` que:\n",
        "- Receba como parâmetros:\n",
        "  - Receita Bruta\n",
        "  - Custos\n",
        "  - Despesas Operacionais\n",
        "  - Impostos\n",
        "- Calcule o **lucro líquido** usando a fórmula:\n",
        "`Lucro líquido = Receita - Custos - Despesas - Impostos`\n",
        "\n",
        "Teste com os valores:\n",
        "- Receita: R\\$ 30.000\n",
        "- Custos: R\\$ 18.000\n",
        "- Despesas: R\\$ 5.000\n",
        "- Impostos: R\\$ 2.000"
      ]
    },
    {
      "cell_type": "code",
      "execution_count": null,
      "metadata": {
        "colab": {
          "base_uri": "https://localhost:8080/"
        },
        "id": "PtGAxH5hjZ-s",
        "outputId": "f8932cb7-a9cf-4d28-ad32-378ea62fa205"
      },
      "outputs": [
        {
          "name": "stdout",
          "output_type": "stream",
          "text": [
            "o lucro líquido é 5000\n"
          ]
        }
      ],
      "source": [
        "#criando o modulo \"calcular_dre\"\n",
        "def calcular_dre(receita, custos, despesas_operacionais, impostos):\n",
        "  lucro_líquido = receita - custos - despesas_operacionais - impostos\n",
        "  return lucro_líquido\n",
        "print(\"o lucro líquido é\", calcular_dre(30000, 18000, 5000, 2000))"
      ]
    }
  ],
  "metadata": {
    "colab": {
      "provenance": []
    },
    "kernelspec": {
      "display_name": "Python 3",
      "name": "python3"
    },
    "language_info": {
      "name": "python"
    }
  },
  "nbformat": 4,
  "nbformat_minor": 0
}
