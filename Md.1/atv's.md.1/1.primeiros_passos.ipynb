{
  "nbformat": 4,
  "nbformat_minor": 0,
  "metadata": {
    "colab": {
      "provenance": []
    },
    "kernelspec": {
      "name": "python3",
      "display_name": "Python 3"
    },
    "language_info": {
      "name": "python"
    }
  },
  "cells": [
    {
      "cell_type": "markdown",
      "source": [
        "Nome: Sérgio Ricardo Vieira Torres Silva\n",
        "\n",
        "Curso: Economia\n",
        "\n",
        "Matricula: 21211879\n"
      ],
      "metadata": {
        "id": "5oH6Q2hCiXG5"
      }
    },
    {
      "cell_type": "markdown",
      "source": [
        "## 📝 Exercícios 1\n",
  
        "Crie variáveis para representar:\n",
        "- Nome de um produto\n",
        "- Quantidade em estoque\n",
        "- Preço de compra\n",
        "- Preço de venda\n",
        "\n",
        "Depois:\n",
        "- Calcule e exiba o **lucro por unidade**\n",
        "- Calcule e exiba o **lucro total**\n",
        "\n",
        "\n",
        "\n",
        "\n",
        "\n"
      ],
      "metadata": {
        "id": "sOYR-JP_xR3Z"
      }
    },
    {
      "cell_type": "code",
      "source": [
        "nome_produto=input(\"Coloque o nome do produto: \")\n",
        "quantidade_estoque=input(\"Coloque a quantidade em estoque: \")\n",
        "quantidade_estoque=int(quantidade_estoque)\n",
        "preco_compra=input(\"Coloque o preço de compra: \")\n",
        "preco_compra=float(preco_compra)\n",
        "preco_venda=input(\"Coloque o preço de venda: \")\n",
        "preco_venda=float(preco_venda)\n",
        "\n",
        "lucro_unidade=preco_venda-preco_compra\n",
        "\n",
        "lucro_total=lucro_unidade*quantidade_estoque\n",
        "\n",
        "print(\"Lucro por unidade de\", nome_produto, \":\", lucro_unidade)\n",
        "print(\"Lucro total:\", lucro_total)"
      ],
      "metadata": {
        "colab": {
          "base_uri": "https://localhost:8080/"
        },
        "id": "V7JW4srtpXKq",
        "outputId": "ab5958af-f4b8-4a95-c6dd-9d0b0ceadf79"
      },
      "execution_count": 35,
      "outputs": [
        {
          "output_type": "stream",
          "name": "stdout",
          "text": [
            "Coloque o nome do produto: Creatina\n",
            "Coloque a quantidade em estoque: 120\n",
            "Coloque o preço de compra: 35\n",
            "Coloque o preço de venda: 80\n",
            "Lucro por unidade de Creatina : 45.0\n",
            "Lucro total: 5400.0\n"
          ]
        }
      ]
    },
    {
      "cell_type": "markdown",
      "source": [
        "##📝 Exercício 2\n",
        "Um trabalhador autônomo realizou **15 serviços no mês**. Cada serviço foi cobrado a **R\\$ 180,00**. Ele teve **R\\$ 550,00 de despesas** com transporte e alimentação.\n",
        "\n",
        "Calcule:\n",
        "- Receita total\n",
        "- Despesas totais\n",
        "- Lucro final"
      ],
      "metadata": {
        "id": "wR1jCfQYh8lW"
      }
    },
    {
      "cell_type": "code",
      "source": [
        "#declarando variáveis\n",
        "num_servicos = 15\n",
        "valor_servico = 180\n",
        "despesas = 550\n",
        "\n",
        "#a) Calculo receita total\n",
        "receita_total = num_servicos * valor_servico\n",
        "print(\"A receita total foi de\", receita_total)\n",
        "\n",
        "#b) Calculo das despesas totais\n",
        "despesas_totais = despesas\n",
        "print(\"As despesas totais foram de\", despesas_totais)\n",
        "\n",
        "#c) Calculo do lucro final\n",
        "lucro_final = receita_total - despesas_totais\n",
        "print(\"O lucro final foi de\", lucro_final)\n"
      ],
      "metadata": {
        "colab": {
          "base_uri": "https://localhost:8080/"
        },
        "id": "h26yDRqRrFOV",
        "outputId": "d2e61da5-d77b-4777-8666-11fb302578ad"
      },
      "execution_count": null,
      "outputs": [
        {
          "output_type": "stream",
          "name": "stdout",
          "text": [
            "A receita total foi de 2700\n",
            "As despesas totais foram de 550\n",
            "O lucro final foi de 2150\n"
          ]
        }
      ]
    },
    {
      "cell_type": "markdown",
      "source": [
        "## 🧩 Tarefa para Casa (opcional)\n",
        "Escreva um código que calcule o **lucro mensal** de um pequeno negócio que:\n",
        "- Vende **3 produtos diferentes**, cada um com seu preço de venda, preço de custo e quantidade vendida.\n",
        "- Tem um **custo fixo mensal de R$ 2.000,00**.\n",
        "\n",
        "Seu código deve:\n",
        "1. Calcular o lucro por unidade de cada produto\n",
        "2. Calcular o lucro total de cada produto (lucro por unidade × quantidade)\n",
        "3. Somar os lucros e subtrair o custo fixo para obter o lucro líquido mensal\n",
        "\n",
        "💡 Dica: Use variáveis diferentes para cada produto e mantenha tudo bem organizado com `print()`s explicativos."
      ],
      "metadata": {
        "id": "znBpz3I3jLe7"
      }
    },
    {
      "cell_type": "code",
      "source": [
        "#Valores em R$ criados pela minha imaginação\n",
        "#Declarando variáveis\n",
        "\n",
        "produto1 = 'creatina'\n",
        "preço_de_custo_produto1 = 25\n",
        "preço_de_venda_produto1 = 80\n",
        "quantidade_vendida_produto1 = 100\n",
        "produto2 = 'whey'\n",
        "preço_de_custo_produto2 = 75\n",
        "preço_de_venda_produto2 = 85\n",
        "quantidade_vendida_produto2 = 150\n",
        "produto3 = 'bcaa'\n",
        "preço_de_custo_produto3 = 50\n",
        "preço_de_venda_produto3 = 76\n",
        "quantidade_vendida_produto3 = 200\n",
        "custo_fixo_mensal = 2000\n",
        "\n",
        "#1.Calcular o lucro por unidade de cada produto\n",
        "lucro_por_unidade_produto1 = preço_de_venda_produto1 - preço_de_custo_produto1\n",
        "lucro_por_unidade_produto2 = preço_de_venda_produto2 - preço_de_custo_produto2\n",
        "lucro_por_unidade_produto3 = preço_de_venda_produto3 - preço_de_custo_produto3\n",
        "print(\"lucro de uma creatina vendida é\", lucro_por_unidade_produto1)\n",
        "print(\"lucro de um whey vendida é\", lucro_por_unidade_produto2)\n",
        "print(\"lucro de um bcaa vendida é\", lucro_por_unidade_produto3)\n",
        "\n",
        "#2.Calcular o lucro total de cada produto (lucro por unidade × quantidade)\n",
        "lucro_total_produto1 = lucro_por_unidade_produto1 * quantidade_vendida_produto1\n",
        "lucro_total_produto2 = lucro_por_unidade_produto2 * quantidade_vendida_produto2\n",
        "lucro_total_produto3 = lucro_por_unidade_produto3 * quantidade_vendida_produto3\n",
        "print(\"lucro total obtido com a venda da creatina é\",lucro_total_produto1)\n",
        "print(\"lucro total obtido com a venda do whey é\", lucro_total_produto2)\n",
        "print(\"lucro total obtido com a venda do bcaa é\", lucro_total_produto3)\n",
        "\n",
        "#3.Somar os lucros e subtrair o custo fixo para obter o lucro líquido mensal\n",
        "Lucro_líquido_mensal = (lucro_total_produto1 + lucro_total_produto2 + lucro_total_produto3) - custo_fixo_mensal\n",
        "print(\"O lucro obtido no final do mês com a venda dos produtos é\", Lucro_líquido_mensal)"
      ],
      "metadata": {
        "colab": {
          "base_uri": "https://localhost:8080/"
        },
        "id": "PtGAxH5hjZ-s",
        "outputId": "765f6d43-26ca-4d12-dfa2-52891b8a471e"
      },
      "execution_count": null,
      "outputs": [
        {
          "output_type": "stream",
          "name": "stdout",
          "text": [
            "lucro de uma creatina vendida é 55\n",
            "lucro de um whey vendida é 10\n",
            "lucro de um bcaa vendida é 26\n",
            "lucro total obtido com a venda da creatina é 5500\n",
            "lucro total obtido com a venda do whey é 1500\n",
            "lucro total obtido com a venda do bcaa é 5200\n",
            "O lucro obtido no final do mês com a venda dos produtos é 10200\n"
          ]
        }
      ]
    }
  ]
}
