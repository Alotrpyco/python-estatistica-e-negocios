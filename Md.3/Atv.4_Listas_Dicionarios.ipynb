{
  "nbformat": 4,
  "nbformat_minor": 0,
  "metadata": {
    "colab": {
      "provenance": []
    },
    "kernelspec": {
      "name": "python3",
      "display_name": "Python 3"
    },
    "language_info": {
      "name": "python"
    }
  },
  "cells": [
    {
      "cell_type": "markdown",
      "source": [
        "Nome: Sérgio Ricardo Vieira Torres Silva\n",
        "\n",
        "Curso: Economia\n",
        "\n",
        "Matrícula: 21211879"
      ],
      "metadata": {
        "id": "74WgqBeezvwr"
      }
    },
    {
      "cell_type": "markdown",
      "source": [
        "## 📝 Exercícios 1\n",
        "Crie uma lista com os preços de 5 produtos. Depois:\n",
        "\n",
        "a) Some todos os preços\n",
        "\n",
        "b) Calcule e imprima a média dos preços\n",
        "\n",
        "\n"
      ],
      "metadata": {
        "id": "W1Yv8D0g1PZG"
      }
    },
    {
      "cell_type": "code",
      "source": [
        "#criando uma lista e declarando todos os produtos juntamente com os preços.\n",
        "catalogo = [{\"nome\": \"Beta Alanina\", \"preço\": 119.00},\n",
        "           {\"nome\": \"bcaa\", \"preço\": 99.18},\n",
        "           {\"nome\": \"creatina monohidratada\", \"preço\": 55.99},\n",
        "           {\"nome\": \"ômega 3 óleo de peixe\", \"preço\": 47.00},\n",
        "           {\"nome\": \"whey protein\", \"preço\": 69.91}]\n",
        "\n",
        "# a) Somando todos os preços\n",
        "soma_de_produtos = 0\n",
        "for intem in catalogo:\n",
        "  soma_de_produtos = soma_de_produtos + intem[\"preço\"]\n",
        "print(f\"A soma de todos os preços é de R${soma_de_produtos:.2f}\")\n",
        "\n",
        "# b) Calcule e imprima a média dos preços\n",
        "media_de_produtos = soma_de_produtos / len(catalogo)\n",
        "print(f\"A média de todos os preços é de R${media_de_produtos:.2f}\")\n"
      ],
      "metadata": {
        "colab": {
          "base_uri": "https://localhost:8080/"
        },
        "id": "sQa5mLjfmIix",
        "outputId": "91f206f1-225f-4d60-eddc-ba1ea593f9c2"
      },
      "execution_count": null,
      "outputs": [
        {
          "output_type": "stream",
          "name": "stdout",
          "text": [
            "A soma de todos os preços é de R$391.08\n",
            "A média de todos os preços é de R$78.22\n"
          ]
        }
      ]
    },
    {
      "cell_type": "markdown",
      "source": [
        "## 📝 Exercício 2\n",
        "Crie um dicionário com os dados de um cliente:\n",
        "- nome, idade, cidade, cliente_vip (bool)\n",
        "Depois, imprima as informações com `print()` formatado."
      ],
      "metadata": {
        "id": "IR-tMStQyX1Y"
      }
    },
    {
      "cell_type": "code",
      "source": [
        "#Criando um dicionário\n",
        "cliente = {\"nome\": \"Sérgio Ricardo\", \"idade\": 30, \"cidade\": \"São Paulo\", \"cliente_vip\": True}\n",
        "\n",
        "#Imprimindo as informações formatadas\n",
        "print(f\"Nome do cliente: {cliente['nome']}\")\n",
        "print(f\"Idade: {cliente['idade']}\")\n",
        "print(f\"Cidade: {cliente['cidade']}\")\n"
      ],
      "metadata": {
        "id": "ddmJjKT7yf1m",
        "colab": {
          "base_uri": "https://localhost:8080/"
        },
        "outputId": "2759cdb5-2493-40bd-d694-a7ba8c6cb714"
      },
      "execution_count": 18,
      "outputs": [
        {
          "output_type": "stream",
          "name": "stdout",
          "text": [
            "Nome do cliente: Sérgio Ricardo\n",
            "Idade: 30\n",
            "Cidade: São Paulo\n"
          ]
        }
      ]
    },
    {
      "cell_type": "markdown",
      "source": [
        "## 📝 Exercício 3\n",
        "Crie uma lista com 3 dicionários, representando funcionários com os campos:\n",
        "- nome, salário, cargo\n",
        "Use um `for` para imprimir o nome, o cargo e o salário de cada um."
      ],
      "metadata": {
        "id": "HnZNmqsuyhs2"
      }
    },
    {
      "cell_type": "code",
      "source": [
        "#Criando a lista de dicionários para funcionários\n",
        "funcionarios = [{\"nome\": \"Lays\", \"salário\": 5667.00, \"cargo\": \"Advogada\"},\n",
        "                {\"nome\": \"Mércia\", \"salário\": 3324.00, \"cargo\": \"Psicóloga\"},\n",
        "                {\"nome\": \"Ana\", \"salário\": 4682.87, \"cargo\": \"Perita contábil\"}]\n",
        "\n",
        "# Usando um for para imprimir o nome e o salário de cada um.\n",
        "for funcionario in funcionarios:\n",
        "    print(f\"Nome:{funcionario['nome']}, Cargo:{funcionario['cargo']}, {Salário: R${funcionario['salário']:.2f}\")"
      ],
      "metadata": {
        "colab": {
          "base_uri": "https://localhost:8080/"
        },
        "id": "x4St0NDD9Lqz",
        "outputId": "31b0e9c2-0aca-410a-b72b-534c80831865"
      },
      "execution_count": 17,
      "outputs": [
        {
          "output_type": "stream",
          "name": "stdout",
          "text": [
            "Nome:Lays, Salário: R$5667.00\n",
            "Nome:Mércia, Salário: R$3324.00\n",
            "Nome:Ana, Salário: R$4682.87\n"
          ]
        }
      ]
    },
    {
      "cell_type": "markdown",
      "source": [
        "## 🧩 Tarefa para Casa\n",
        "Crie um programa que:\n",
        "1. Solicite ao usuário os dados de **3 produtos**: nome, preço e quantidade em estoque.\n",
        "2. Armazene esses dados em **dicionários**, e os dicionários dentro de uma **lista**.\n",
        "3. Depois, exiba um relatório com:\n",
        "   - O nome de cada produto\n",
        "   - O valor total de estoque (preço × quantidade)\n",
        "\n",
        "💡 Exemplo de saída esperada:\n",
        "```\n",
        "Produto: Caneta – Valor em estoque: R$ 75.00\n",
        "Produto: Caderno – Valor em estoque: R$ 240.00\n",
        "Produto: Mochila – Valor em estoque: R$ 540.00\n",
        "```"
      ],
      "metadata": {
        "id": "lGM18_ZcyxwZ"
      }
    },
    {
      "cell_type": "code",
      "source": [
        "#1) e 2) Criando uma dicionário para solicitar 3 produtos e armazenando esses dados em dicionários,\n",
        "produtos = [produto1:= {\"produto\": input(\"Nome do produto1:\"), \"preço\": float(input(\"Preço do produto1:\")), \"quantidade\": int(input(\"Quantidade em estoque:\"))},\n",
        "            produto2:= {\"produto\": input(\"Nome do produto2:\"), \"preço\": float(input(\"Preço do produto2:\")), \"quantidade\": int(input(\"Quantidade em estoque:\"))},\n",
        "            produto3:= {\"produto\": input(\"Nome do produto3:\"), \"preço\": float(input(\"Preço do produto3:\")), \"quantidade\": int(input(\"Quantidade em estoque:\"))}]\n",
        "\n",
        "#3)Exibindo um relatório\n",
        "for produto in produtos:\n",
        "    print(f\"Produto: {produto['produto']} - Valor em estoque: R${produto['preço'] * produto['quantidade']:.2f}\")"
      ],
      "metadata": {
        "colab": {
          "base_uri": "https://localhost:8080/"
        },
        "id": "SxzOgKHVGOjt",
        "outputId": "b1fc9981-a4a1-4dce-e454-c0f0e1a3832d"
      },
      "execution_count": 38,
      "outputs": [
        {
          "output_type": "stream",
          "name": "stdout",
          "text": [
            "Nome do produto1:Glutamine\n",
            "Preço do produto1:86.50\n",
            "Quantidade em estoque:55\n",
            "Nome do produto2:Vitamina B12\n",
            "Preço do produto2:40.50\n",
            "Quantidade em estoque:60\n",
            "Nome do produto3:BCAA\n",
            "Preço do produto3:160\n",
            "Quantidade em estoque:70\n",
            "Produto: Glutamine - Valor em estoque: R$4757.50\n",
            "Produto: Vitamina B12 - Valor em estoque: R$2430.00\n",
            "Produto: BCAA - Valor em estoque: R$11200.00\n"
          ]
        }
      ]
    }
  ]
}
