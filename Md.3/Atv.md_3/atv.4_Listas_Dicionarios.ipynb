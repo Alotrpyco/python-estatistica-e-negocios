{
  "cells": [
    {
      "cell_type": "markdown",
      "metadata": {
        "id": "74WgqBeezvwr"
      },
      "source": [
        "Nome: Sérgio Ricardo Vieira Torres Silva\n",
        "\n",
        "Curso: Economia\n",
        "\n",
        "Matrícula: 21211879"
      ]
    },
    {
      "cell_type": "markdown",
      "metadata": {
        "id": "W1Yv8D0g1PZG"
      },
      "source": [
        "## 📝 Exercícios 1\n",
        "Crie uma lista com os preços de 5 produtos. Depois:\n",
        "\n",
        "a) Some todos os preços\n",
        "\n",
        "b) Calcule e imprima a média dos preços\n",
        "\n",
        "\n"
      ]
    },
    {
      "cell_type": "code",
      "execution_count": null,
      "metadata": {
        "colab": {
          "base_uri": "https://localhost:8080/"
        },
        "id": "sQa5mLjfmIix",
        "outputId": "91f206f1-225f-4d60-eddc-ba1ea593f9c2"
      },
      "outputs": [
        {
          "name": "stdout",
          "output_type": "stream",
          "text": [
            "A soma de todos os preços é de R$391.08\n",
            "A média de todos os preços é de R$78.22\n"
          ]
        }
      ],
      "source": [
        "#criando uma lista e declarando todos os produtos juntamente com os preços.\n",
        "catalogo = [{\"nome\": \"Beta Alanina\", \"preço\": 119.00},\n",
        "           {\"nome\": \"bcaa\", \"preço\": 99.18},\n",
        "           {\"nome\": \"creatina monohidratada\", \"preço\": 55.99},\n",
        "           {\"nome\": \"ômega 3 óleo de peixe\", \"preço\": 47.00},\n",
        "           {\"nome\": \"whey protein\", \"preço\": 69.91}]\n",
        "\n",
        "# a) Somando todos os preços\n",
        "soma_de_produtos = 0\n",
        "for intem in catalogo:\n",
        "  soma_de_produtos = soma_de_produtos + intem[\"preço\"]\n",
        "print(f\"A soma de todos os preços é de R${soma_de_produtos:.2f}\")\n",
        "\n",
        "# b) Calcule e imprima a média dos preços\n",
        "media_de_produtos = soma_de_produtos / len(catalogo)\n",
        "print(f\"A média de todos os preços é de R${media_de_produtos:.2f}\")\n"
      ]
    },
    {
      "cell_type": "markdown",
      "metadata": {
        "id": "IR-tMStQyX1Y"
      },
      "source": [
        "## 📝 Exercício 2\n",
        "Crie um dicionário com os dados de um cliente:\n",
        "- nome, idade, cidade, cliente_vip (bool)\n",
        "Depois, imprima as informações com `print()` formatado."
      ]
    },
    {
      "cell_type": "code",
      "execution_count": null,
      "metadata": {
        "colab": {
          "base_uri": "https://localhost:8080/"
        },
        "id": "ddmJjKT7yf1m",
        "outputId": "2759cdb5-2493-40bd-d694-a7ba8c6cb714"
      },
      "outputs": [
        {
          "name": "stdout",
          "output_type": "stream",
          "text": [
            "Nome do cliente: Sérgio Ricardo\n",
            "Idade: 30\n",
            "Cidade: São Paulo\n"
          ]
        }
      ],
      "source": [
        "#Criando um dicionário\n",
        "cliente = {\"nome\": \"Sérgio Ricardo\", \"idade\": 30, \"cidade\": \"São Paulo\", \"cliente_vip\": True}\n",
        "\n",
        "#Imprimindo as informações formatadas\n",
        "print(f\"Nome do cliente: {cliente['nome']}\")\n",
        "print(f\"Idade: {cliente['idade']}\")\n",
        "print(f\"Cidade: {cliente['cidade']}\")\n"
      ]
    },
    {
      "cell_type": "markdown",
      "metadata": {
        "id": "HnZNmqsuyhs2"
      },
      "source": [
        "## 📝 Exercício 3\n",
        "Crie uma lista com 3 dicionários, representando funcionários com os campos:\n",
        "- nome, salário, cargo\n",
        "Use um `for` para imprimir o nome e o salário de cada um."
      ]
    },
    {
      "cell_type": "code",
      "execution_count": null,
      "metadata": {
        "colab": {
          "base_uri": "https://localhost:8080/"
        },
        "id": "x4St0NDD9Lqz",
        "outputId": "518e5b5b-9841-4863-cfa8-f9d8c685764a"
      },
      "outputs": [
        {
          "name": "stdout",
          "output_type": "stream",
          "text": [
            "Nome:Lays, Cargo:Advogada, Salário: R$5667.00\n",
            "Nome:Mércia, Cargo:Psicologa, Salário: R$3324.00\n",
            "Nome:Ana, Cargo:Perita contábil, Salário: R$4682.87\n"
          ]
        }
      ],
      "source": [
        "#Criando a lista de dicionários para funcionários\n",
        "funcionarios = [{\"nome\": \"Mércia\", \"salário\": 5667.00, \"cargo\": \"Psicóloga\"},\n",
        "                {\"nome\": \"Natacha\", \"salário\": 3324.00, \"cargo\": \"Pedagoga\"},\n",
        "                {\"nome\": \"Ana\", \"salário\": 4682.87, \"cargo\": \"Perita contábil\"}]\n",
        "\n",
        "# Usando um for para imprimir o nome e o salário de cada um.\n",
        "for funcionario in funcionarios:\n",
        "    print(f\"Nome:{funcionario['nome']}, Cargo:{funcionario['cargo']}, Salário: R${funcionario['salário']:.2f}\")"
      ]
    },
    {
      "cell_type": "markdown",
      "metadata": {
        "id": "lGM18_ZcyxwZ"
      },
      "source": [
        "## 🧩 Tarefa para Casa\n",
        "Crie um programa que:\n",
        "1. Solicite ao usuário os dados de **3 produtos**: nome, preço e quantidade em estoque.\n",
        "2. Armazene esses dados em **dicionários**, e os dicionários dentro de uma **lista**.\n",
        "3. Depois, exiba um relatório com:\n",
        "   - O nome de cada produto\n",
        "   - O valor total de estoque (preço × quantidade)\n",
        "\n",
        "💡 Exemplo de saída esperada:\n",
        "```\n",
        "Produto: Caneta – Valor em estoque: R$ 75.00\n",
        "Produto: Caderno – Valor em estoque: R$ 240.00\n",
        "Produto: Mochila – Valor em estoque: R$ 540.00\n",
        "```"
      ]
    },
    {
      "cell_type": "code",
      "execution_count": null,
      "metadata": {
        "colab": {
          "base_uri": "https://localhost:8080/"
        },
        "id": "SxzOgKHVGOjt",
        "outputId": "b1fc9981-a4a1-4dce-e454-c0f0e1a3832d"
      },
      "outputs": [
        {
          "name": "stdout",
          "output_type": "stream",
          "text": [
            "Nome do produto1:Glutamine\n",
            "Preço do produto1:86.50\n",
            "Quantidade em estoque:55\n",
            "Nome do produto2:Vitamina B12\n",
            "Preço do produto2:40.50\n",
            "Quantidade em estoque:60\n",
            "Nome do produto3:BCAA\n",
            "Preço do produto3:160\n",
            "Quantidade em estoque:70\n",
            "Produto: Glutamine - Valor em estoque: R$4757.50\n",
            "Produto: Vitamina B12 - Valor em estoque: R$2430.00\n",
            "Produto: BCAA - Valor em estoque: R$11200.00\n"
          ]
        }
      ],
      "source": [
        "#1) e 2) Criando uma dicionário para solicitar 3 produtos e armazenando esses dados em dicionários,\n",
        "produtos = [produto1:= {\"produto\": input(\"Nome do produto1:\"), \"preço\": float(input(\"Preço do produto1:\")), \"quantidade\": int(input(\"Quantidade em estoque:\"))},\n",
        "            produto2:= {\"produto\": input(\"Nome do produto2:\"), \"preço\": float(input(\"Preço do produto2:\")), \"quantidade\": int(input(\"Quantidade em estoque:\"))},\n",
        "            produto3:= {\"produto\": input(\"Nome do produto3:\"), \"preço\": float(input(\"Preço do produto3:\")), \"quantidade\": int(input(\"Quantidade em estoque:\"))}]\n",
        "\n",
        "#3)Exibindo um relatório\n",
        "for produto in produtos:\n",
        "    print(f\"Produto: {produto['produto']} - Valor em estoque: R${produto['preço'] * produto['quantidade']:.2f}\")"
      ]
    }
  ],
  "metadata": {
    "colab": {
      "provenance": []
    },
    "kernelspec": {
      "display_name": "Python 3",
      "name": "python3"
    },
    "language_info": {
      "name": "python"
    }
  },
  "nbformat": 4,
  "nbformat_minor": 0
}
