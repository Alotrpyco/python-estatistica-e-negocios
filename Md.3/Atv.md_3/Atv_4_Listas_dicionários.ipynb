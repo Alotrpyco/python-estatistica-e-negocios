{
  "nbformat": 4,
  "nbformat_minor": 0,
  "metadata": {
    "colab": {
      "provenance": []
    },
    "kernelspec": {
      "name": "python3",
      "display_name": "Python 3"
    },
    "language_info": {
      "name": "python"
    }
  },
  "cells": [
    {
      "cell_type": "markdown",
      "source": [
        "Nome: Sérgio Ricardo Vieira Torres Silva\n",
        "\n",
        "Curso: Economia\n",
        "\n",
        "Matricula: 21211879\n"
      ],
      "metadata": {
        "id": "5oH6Q2hCiXG5"
      }
    },
    {
      "cell_type": "markdown",
      "source": [
        "## 📝 Exercícios 1\n",
        "Crie uma lista com os preços de 5 produtos. Depois:\n",
        "\n",
        "a) Some todos os preços\n",
        "\n",
        "b) Calcule e imprima a média dos preços\n",
        "\n",
        "\n",
        "\n",
        "\n",
        "\n"
      ],
      "metadata": {
        "id": "sOYR-JP_xR3Z"
      }
    },
    {
      "cell_type": "code",
      "source": [
        "#criando uma lista e declarando todos os produtos juntamente com os preços.\n",
        "catalogo = [{\"nome\": \"Beta Alanina\", \"preço\": 119.00},\n",
        "           {\"nome\": \"bcaa\", \"preço\": 99.18},\n",
        "           {\"nome\": \"creatina monohidratada\", \"preço\": 55.99},\n",
        "           {\"nome\": \"ômega 3 óleo de peixe\", \"preço\": 47.00},\n",
        "           {\"nome\": \"whey protein\", \"preço\": 69.91}]\n",
        "\n",
        "# a) Somando todos os preços\n",
        "soma_de_produtos = 0\n",
        "for intem in catalogo:\n",
        "  soma_de_produtos = soma_de_produtos + intem[\"preço\"]\n",
        "print(f\"A soma de todos os preços é de R${soma_de_produtos:.2f}\")\n",
        "\n",
        "# b) Calcule e imprima a média dos preços\n",
        "media_de_produtos = soma_de_produtos / len(catalogo)\n",
        "print(f\"A média de todos os preços é de R${media_de_produtos:.2f}\")"
      ],
      "metadata": {
        "colab": {
          "base_uri": "https://localhost:8080/"
        },
        "id": "V7JW4srtpXKq",
        "outputId": "c6e7931a-45c6-479a-d34b-b7122b79f5e3"
      },
      "execution_count": null,
      "outputs": [
        {
          "output_type": "stream",
          "name": "stdout",
          "text": [
            "A soma de todos os preços é de R$391.08\n",
            "A média de todos os preços é de R$78.22\n"
          ]
        }
      ]
    },
    {
      "cell_type": "markdown",
      "source": [
        "## 📝 Exercício 2\n",
        "Crie um dicionário com os dados de um cliente:\n",
        "- nome, idade, cidade, cliente_vip (bool)\n",
        "Depois, imprima as informações com `print()` formatado."
      ],
      "metadata": {
        "id": "wR1jCfQYh8lW"
      }
    },
    {
      "cell_type": "code",
      "source": [
        "#Criando um dicionário\n",
        "cliente = {\"nome\": \"Sérgio Ricardo\", \"idade\": 30, \"cidade\": \"São Paulo\", \"cliente_vip\": True}\n",
        "\n",
        "#Imprimindo as informações formatadas\n",
        "print(f\"Nome do cliente: {cliente['nome']}\")\n",
        "print(f\"Idade: {cliente['idade']}\")\n",
        "print(f\"Cidade: {cliente['cidade']}\")\n"
      ],
      "metadata": {
        "colab": {
          "base_uri": "https://localhost:8080/"
        },
        "id": "h26yDRqRrFOV",
        "outputId": "c671f1e1-3d5e-4256-8e88-75672f660c61"
      },
      "execution_count": null,
      "outputs": [
        {
          "output_type": "stream",
          "name": "stdout",
          "text": [
            "Nome do cliente: Sérgio Ricardo\n",
            "Idade: 30\n",
            "Cidade: São Paulo\n"
          ]
        }
      ]
    },
    {
      "cell_type": "markdown",
      "source": [
        "## 📝 Exercício 3\n",
        "Crie uma lista com 3 dicionários, representando funcionários com os campos:\n",
        "- nome, salário, cargo\n",
        "Use um `for` para imprimir o nome e o salário de cada um."
      ],
      "metadata": {
        "id": "pIKNAld-kgaW"
      }
    },
    {
      "cell_type": "code",
      "source": [
        "#Criando a lista de dicionários para funcionários\n",
        "funcionarios = [{\"nome\": \"Natasha\", \"salário\": 5667.00, \"cargo\": \"Pedagoga\"},\n",
        "                {\"nome\": \"Mércia\", \"salário\": 3324.00, \"cargo\": \"Psicóloga\"},\n",
        "                {\"nome\": \"Ana\", \"salário\": 4682.87, \"cargo\": \"Perita contábil\"}]\n",
        "\n",
        "# Usando um for para imprimir o nome e o salário de cada um.\n",
        "for funcionario in funcionarios:\n",
        "    print(f\"Nome:{funcionario['nome']}, Cargo:{funcionario['cargo']}, Salário: R${funcionario['salário']:.2f}\")"
      ],
      "metadata": {
        "colab": {
          "base_uri": "https://localhost:8080/"
        },
        "id": "oX5wffGSkhj-",
        "outputId": "3e5011b9-4d0d-4dd2-f88e-05095295720e"
      },
      "execution_count": null,
      "outputs": [
        {
          "output_type": "stream",
          "name": "stdout",
          "text": [
            "Nome:Natasha, Cargo:Pedagoga, Salário: R$5667.00\n",
            "Nome:Mércia, Cargo:Psicóloga, Salário: R$3324.00\n",
            "Nome:Ana, Cargo:Perita contábil, Salário: R$4682.87\n"
          ]
        }
      ]
    },
    {
      "cell_type": "markdown",
      "source": [
        "## 🧩 Tarefa para Casa\n",
        "Crie um programa que:\n",
        "1. Solicite ao usuário os dados de **3 produtos**: nome, preço e quantidade em estoque.\n",
        "2. Armazene esses dados em **dicionários**, e os dicionários dentro de uma **lista**.\n",
        "3. Depois, exiba um relatório com:\n",
        "   - O nome de cada produto\n",
        "   - O valor total de estoque (preço × quantidade)\n",
        "\n",
        "💡 Exemplo de saída esperada:\n",
        "```\n",
        "Produto: Caneta – Valor em estoque: R$ 75.00\n",
        "\n",
        "Produto: Caderno – Valor em estoque: R$ 240.00\n",
        "\n",
        "Produto: Mochila – Valor em estoque: R$ 540.00"
      ],
      "metadata": {
        "id": "7exI9bREkpQK"
      }
    },
    {
      "cell_type": "code",
      "source": [
        "#1) e 2) Criando uma dicionário para solicitar 3 produtos e armazenando esses dados em dicionários,\n",
        "produtos = [produto1:= {\"produto\": input(\"Nome do produto1:\"), \"preço\": float(input(\"Preço do produto1:\")), \"quantidade\": int(input(\"Quantidade em estoque:\"))},\n",
        "            produto2:= {\"produto\": input(\"Nome do produto2:\"), \"preço\": float(input(\"Preço do produto2:\")), \"quantidade\": int(input(\"Quantidade em estoque:\"))},\n",
        "            produto3:= {\"produto\": input(\"Nome do produto3:\"), \"preço\": float(input(\"Preço do produto3:\")), \"quantidade\": int(input(\"Quantidade em estoque:\"))}]\n",
        "\n",
        "#3)Exibindo um relatório\n",
        "for produto in produtos:\n",
        "    print(f\"Produto: {produto['produto']} - Valor em estoque: R${produto['preço'] * produto['quantidade']:.2f}\")"
      ],
      "metadata": {
        "id": "OnDn_b9gk0Ra",
        "colab": {
          "base_uri": "https://localhost:8080/"
        },
        "outputId": "31e15f23-e8c6-446a-8469-396e50bb1d6f"
      },
      "execution_count": 9,
      "outputs": [
        {
          "output_type": "stream",
          "name": "stdout",
          "text": [
            "Nome do produto1:Glutamina\n",
            "Preço do produto1:86.50\n",
            "Quantidade em estoque:55\n",
            "Nome do produto2:Vitamina B12\n",
            "Preço do produto2:40.50\n",
            "Quantidade em estoque:60\n",
            "Nome do produto3:BCAA\n",
            "Preço do produto3:160\n",
            "Quantidade em estoque:80\n",
            "Produto: Glutamina - Valor em estoque: R$4757.50\n",
            "Produto: Vitamina B12 - Valor em estoque: R$2430.00\n",
            "Produto: BCAA - Valor em estoque: R$12800.00\n"
          ]
        }
      ]
    }
  ]
}