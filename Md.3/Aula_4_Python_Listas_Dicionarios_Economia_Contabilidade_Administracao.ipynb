{
  "cells": [
    {
      "cell_type": "markdown",
      "id": "b04ea56a",
      "metadata": {
        "id": "b04ea56a"
      },
      "source": [
        "# 📘 Aula 4 – Listas e Dicionários: Estruturas para Organizar Informações\n",
        "**Objetivos da Aula**:\n",
        "- Compreender o que são listas e como manipulá-las.\n",
        "- Acessar, modificar e percorrer listas com índices positivos e negativos.\n",
        "- Verificar a existência de elementos em listas e buscar por valores.\n",
        "- Compreender o que são dicionários e suas vantagens.\n",
        "- Adicionar, modificar, remover e iterar sobre dicionários.\n",
        "- Aplicar listas e dicionários em exemplos práticos de negócios."
      ]
    },
    {
      "cell_type": "markdown",
      "id": "5fe37fdb",
      "metadata": {
        "id": "5fe37fdb"
      },
      "source": [
        "## ✅ Parte 1 – Listas"
      ]
    },
    {
      "cell_type": "markdown",
      "source": [
        "🧾 O que é uma lista em Python?\n",
        "\n",
        "Uma lista é uma estrutura de dados que permite armazenar vários valores em uma única variável. Esses valores podem ser números, textos ou qualquer outro tipo de dado, e ficam organizados por ordem, com cada item ocupando uma posição (índice).\n",
        "\n",
        "📌 Características:\n",
        "Os itens da lista são acessados por sua posição, começando do índice 0.\n",
        "\n",
        "As listas são mutáveis: você pode adicionar, remover ou modificar elementos.\n",
        "\n",
        "São úteis para armazenar valores repetitivos ou organizados sequencialmente, como preços de produtos, registros de vendas, notas, etc."
      ],
      "metadata": {
        "id": "bnAxhD0ShOGR"
      },
      "id": "bnAxhD0ShOGR"
    },
    {
      "cell_type": "code",
      "execution_count": null,
      "id": "c39f5025",
      "metadata": {
        "id": "c39f5025",
        "colab": {
          "base_uri": "https://localhost:8080/"
        },
        "outputId": "a3c077d5-9258-4d4f-a84a-58e387ca501d"
      },
      "outputs": [
        {
          "output_type": "stream",
          "name": "stdout",
          "text": [
            "[10.5, 12.0, 8.75, 15.3]\n"
          ]
        }
      ],
      "source": [
        "# Criando uma lista\n",
        "precos = [10.5, 12.0, 8.75, 15.3]\n",
        "print(precos)"
      ]
    },
    {
      "cell_type": "code",
      "source": [
        "# número de elementos em uma lista (tamanho da lista)\n",
        "print(len(precos))"
      ],
      "metadata": {
        "colab": {
          "base_uri": "https://localhost:8080/"
        },
        "id": "PnhRvs75k7jx",
        "outputId": "85560efb-a950-473e-c7c2-8712323a33a4"
      },
      "id": "PnhRvs75k7jx",
      "execution_count": null,
      "outputs": [
        {
          "output_type": "stream",
          "name": "stdout",
          "text": [
            "4\n"
          ]
        }
      ]
    },
    {
      "cell_type": "code",
      "execution_count": null,
      "id": "57289f8e",
      "metadata": {
        "id": "57289f8e",
        "colab": {
          "base_uri": "https://localhost:8080/"
        },
        "outputId": "c95c759b-8dad-4e35-aefb-5a0a21f44152"
      },
      "outputs": [
        {
          "output_type": "stream",
          "name": "stdout",
          "text": [
            "10.5\n",
            "15.3\n"
          ]
        }
      ],
      "source": [
        "# Acessando elementos\n",
        "print(precos[0])  # Primeiro\n",
        "print(precos[3])  # Quarto"
      ]
    },
    {
      "cell_type": "code",
      "source": [
        "print(precos[1]) #segundo elemento da lista precos"
      ],
      "metadata": {
        "colab": {
          "base_uri": "https://localhost:8080/"
        },
        "id": "Ks5sKKollbdx",
        "outputId": "0944e7d1-9d0e-4c21-c924-daebe31cd5ba"
      },
      "id": "Ks5sKKollbdx",
      "execution_count": null,
      "outputs": [
        {
          "output_type": "stream",
          "name": "stdout",
          "text": [
            "12.0\n"
          ]
        }
      ]
    },
    {
      "cell_type": "code",
      "execution_count": null,
      "id": "da6c144d",
      "metadata": {
        "id": "da6c144d",
        "colab": {
          "base_uri": "https://localhost:8080/"
        },
        "outputId": "8e61936b-9c10-4f21-fbf6-6d3e7ba95524"
      },
      "outputs": [
        {
          "output_type": "stream",
          "name": "stdout",
          "text": [
            "[10.5, 13.5, 8.75, 15.3]\n"
          ]
        }
      ],
      "source": [
        "# Alterando um valor\n",
        "precos[1] = 13.5 #alterar segundo elemento\n",
        "print(precos)"
      ]
    },
    {
      "cell_type": "code",
      "execution_count": null,
      "id": "011691b3",
      "metadata": {
        "id": "011691b3",
        "colab": {
          "base_uri": "https://localhost:8080/"
        },
        "outputId": "b9b4e87f-45f4-4511-ed90-26127341a3e9"
      },
      "outputs": [
        {
          "output_type": "stream",
          "name": "stdout",
          "text": [
            "[10.5, 13.5, 15.3, 9.99]\n"
          ]
        }
      ],
      "source": [
        "# Adicionando e removendo elementos\n",
        "#precos.append(9.99) #acrescenta à direita\n",
        "precos.remove(8.75) #remove elemento específico\n",
        "print(precos)"
      ]
    },
    {
      "cell_type": "code",
      "execution_count": null,
      "id": "ec5a4632",
      "metadata": {
        "id": "ec5a4632",
        "colab": {
          "base_uri": "https://localhost:8080/"
        },
        "outputId": "e867ee4e-008e-448b-8c7f-35984036bcdb"
      },
      "outputs": [
        {
          "output_type": "stream",
          "name": "stdout",
          "text": [
            "Número de preços: 4\n"
          ]
        }
      ],
      "source": [
        "# Tamanho da lista\n",
        "print(\"Número de preços:\", len(precos))"
      ]
    },
    {
      "cell_type": "code",
      "execution_count": null,
      "id": "433a4a5e",
      "metadata": {
        "id": "433a4a5e",
        "colab": {
          "base_uri": "https://localhost:8080/"
        },
        "outputId": "475cc21b-3617-4c17-bc11-d42fb9ce66d7"
      },
      "outputs": [
        {
          "output_type": "stream",
          "name": "stdout",
          "text": [
            "Preco sem imposto: 10.5\n",
            "Preço com imposto: 11.55\n",
            "Preco sem imposto: 13.5\n",
            "Preço com imposto: 14.850000000000001\n",
            "Preco sem imposto: 15.3\n",
            "Preço com imposto: 16.830000000000002\n",
            "Preco sem imposto: 9.99\n",
            "Preço com imposto: 10.989\n"
          ]
        }
      ],
      "source": [
        "# Percorrendo com for\n",
        "# for ELEMENTO in CONJUNTO\n",
        "for a in precos:\n",
        "    print(\"Preco sem imposto:\", a)\n",
        "    print(\"Preço com imposto:\", a * 1.1)"
      ]
    },
    {
      "cell_type": "markdown",
      "id": "83d56185",
      "metadata": {
        "id": "83d56185"
      },
      "source": [
        "### 🔁 Acessando com índices negativos"
      ]
    },
    {
      "cell_type": "code",
      "execution_count": null,
      "id": "5afa4412",
      "metadata": {
        "id": "5afa4412",
        "colab": {
          "base_uri": "https://localhost:8080/"
        },
        "outputId": "b8e0e4a5-8d0a-4bc3-d213-d90c60d8d029"
      },
      "outputs": [
        {
          "output_type": "stream",
          "name": "stdout",
          "text": [
            "agenda\n",
            "mochila\n"
          ]
        }
      ],
      "source": [
        "produtos = [\"caneta\", \"caderno\", \"mochila\", \"agenda\"]\n",
        "print(produtos[-1])  # Último\n",
        "print(produtos[-2])  # Penúltimo"
      ]
    },
    {
      "cell_type": "code",
      "execution_count": null,
      "id": "f02d9ef8",
      "metadata": {
        "id": "f02d9ef8",
        "colab": {
          "base_uri": "https://localhost:8080/"
        },
        "outputId": "58c93bba-e2a1-42d4-a4ab-fea0602a752c"
      },
      "outputs": [
        {
          "output_type": "stream",
          "name": "stdout",
          "text": [
            "agenda\n",
            "mochila\n",
            "caderno\n",
            "caneta\n"
          ]
        }
      ],
      "source": [
        "# Percorrendo de trás para frente\n",
        "for i in range(-1, -len(produtos)-1, -1):\n",
        "    print(produtos[i])"
      ]
    },
    {
      "cell_type": "code",
      "execution_count": null,
      "id": "0c182d18",
      "metadata": {
        "id": "0c182d18",
        "colab": {
          "base_uri": "https://localhost:8080/"
        },
        "outputId": "82023f8c-e875-4bc9-a365-f85dab18eedb"
      },
      "outputs": [
        {
          "output_type": "stream",
          "name": "stdout",
          "text": [
            "Tem mochila no estoque!\n",
            "Não temos lapis no estoque!\n"
          ]
        }
      ],
      "source": [
        "# Verificando se um item está na lista\n",
        "\n",
        "# ITEM (string número etc) in LISTA\n",
        "\n",
        "if \"mochila\" in produtos:\n",
        "    print(\"Tem mochila no estoque!\")\n",
        "\n",
        "if \"lapis\" in produtos:\n",
        "    print(\"Tem lapis no estoque!\")\n",
        "else:\n",
        "    print(\"Não temos lapis no estoque!\")\n",
        "\n"
      ]
    },
    {
      "cell_type": "code",
      "source": [
        "# Verificar se um item não está na lista\n",
        "\n",
        "# ITEM (numero, string etc) not in LISTA\n",
        "\n",
        "if \"caderno\" not in produtos:\n",
        "    print(\"Não temos cadernos no estoque!\")\n",
        "else:\n",
        "    print(\"Tem cadernos no estoque!\")\n"
      ],
      "metadata": {
        "colab": {
          "base_uri": "https://localhost:8080/"
        },
        "id": "fKeQr2trppoR",
        "outputId": "4a84c728-5508-42b6-fdfb-4f329f28d68a"
      },
      "id": "fKeQr2trppoR",
      "execution_count": null,
      "outputs": [
        {
          "output_type": "stream",
          "name": "stdout",
          "text": [
            "Tem cadernos no estoque!\n"
          ]
        }
      ]
    },
    {
      "cell_type": "code",
      "execution_count": null,
      "id": "59b89013",
      "metadata": {
        "id": "59b89013",
        "colab": {
          "base_uri": "https://localhost:8080/"
        },
        "outputId": "4b68d40e-404c-4dca-f4e0-92648dfccd02"
      },
      "outputs": [
        {
          "output_type": "stream",
          "name": "stdout",
          "text": [
            "Caderno está na posição: 1\n"
          ]
        }
      ],
      "source": [
        "# Buscando a posição de um item\n",
        "indice = produtos.index(\"caderno\")\n",
        "print(\"Caderno está na posição:\", indice)"
      ]
    },
    {
      "cell_type": "code",
      "execution_count": null,
      "id": "5e71199d",
      "metadata": {
        "id": "5e71199d",
        "colab": {
          "base_uri": "https://localhost:8080/"
        },
        "outputId": "34fc8c11-89f4-4682-c55e-3cec906c4317"
      },
      "outputs": [
        {
          "output_type": "stream",
          "name": "stdout",
          "text": [
            "Canetas vendidas: 3\n"
          ]
        }
      ],
      "source": [
        "# Contando ocorrências\n",
        "vendas = [\"caneta\", \"caneta\", \"mochila\", \"caderno\", \"caneta\"]\n",
        "print(\"Canetas vendidas:\", vendas.count(\"caneta\"))"
      ]
    },
    {
      "cell_type": "code",
      "source": [
        "# colocando em ordem alfabética\n",
        "\n",
        "frutas = [\"banana\", \"maçã\", \"laranja\", \"abacaxi\"]\n",
        "\n",
        "# Usando sort() - modifica a lista original\n",
        "frutas.sort()\n",
        "print(\"Usando sort():\", frutas)"
      ],
      "metadata": {
        "colab": {
          "base_uri": "https://localhost:8080/"
        },
        "id": "wC64iHGjrCCU",
        "outputId": "15f08bc6-910d-4862-caf8-72476dd69a1d"
      },
      "id": "wC64iHGjrCCU",
      "execution_count": null,
      "outputs": [
        {
          "output_type": "stream",
          "name": "stdout",
          "text": [
            "Usando sort(): ['abacaxi', 'banana', 'laranja', 'maçã']\n"
          ]
        }
      ]
    },
    {
      "cell_type": "markdown",
      "source": [
        "# Vamos praticar\n",
        "\n",
        "Crie uma lista que contenha os nomes de todas as universidades federais em ordem alfabética.\n",
        "\n",
        "1) Encontre o oitavo elemento da lista\n",
        "2) Verifique a posição de UNIVERSIDADE FEDERAL DO PIAUI\n",
        "3) Qual é o antepenúltimo elemento da lista?\n",
        "4) Verifique se o CESMAC está na lista.\n",
        "\n",
        "\n",
        "\n",
        "\n"
      ],
      "metadata": {
        "id": "E1AtuxtOqX6a"
      },
      "id": "E1AtuxtOqX6a"
    },
    {
      "cell_type": "code",
      "source": [
        "universidades = [\n",
        "    \"Universidade de Brasília\",\n",
        "    \"Universidade Federal da Grande Dourados\",\n",
        "    \"Universidade Federal de Goiás\",\n",
        "    \"Universidade Federal de Mato Grosso\",\n",
        "    \"Universidade Federal de Mato Grosso do Sul\",\n",
        "    \"Universidade Federal de Catalão\",\n",
        "    \"Universidade Federal de Jataí\",\n",
        "    \"Universidade Federal de Rondonópolis\",\n",
        "    \"Universidade Federal da Bahia\",\n",
        "    \"Universidade Federal do Sul da Bahia\",\n",
        "    \"Universidade Federal do Recôncavo da Bahia\",\n",
        "    \"Universidade Federal da Lusofonia Afro-Brasileira\",\n",
        "    \"Universidade Federal da Paraíba\",\n",
        "    \"Universidade Federal do Cariri\",\n",
        "    \"Universidade Federal de Alagoas\",\n",
        "    \"Universidade Federal de Campina Grande\",\n",
        "    \"Universidade Federal de Pernambuco\",\n",
        "    \"Universidade Federal de Sergipe\",\n",
        "    \"Universidade Federal do Ceará\",\n",
        "    \"Universidade Federal do Maranhão\",\n",
        "    \"Universidade Federal do Oeste da Bahia\",\n",
        "    \"Universidade Federal do Piauí\",\n",
        "    \"Universidade Federal do Rio Grande do Norte\",\n",
        "    \"Universidade Federal do Vale do São Francisco\",\n",
        "    \"Universidade Federal Rural de Pernambuco\",\n",
        "    \"Universidade Federal Rural do Semi-Árido\",\n",
        "    \"Universidade Federal de Rondônia\",\n",
        "    \"Universidade Federal de Roraima\",\n",
        "    \"Universidade Federal do Acre\",\n",
        "    \"Universidade Federal do Amapá\",\n",
        "    \"Universidade Federal do Amazonas\",\n",
        "    \"Universidade Federal do Oeste do Pará\",\n",
        "    \"Universidade Federal do Pará\",\n",
        "    \"Universidade Federal do Tocantins\",\n",
        "    \"Universidade Federal Rural da Amazônia\",\n",
        "    \"Universidade Federal do Sul e Sudeste do Pará\",\n",
        "    \"Universidade Federal de Alfenas\",\n",
        "    \"Universidade Federal de Itajubá\",\n",
        "    \"Universidade Federal de Juiz de Fora\",\n",
        "    \"Universidade Federal de Lavras\",\n",
        "    \"Universidade Federal de Minas Gerais\",\n",
        "    \"Universidade Federal de Ouro Preto\",\n",
        "    \"Universidade Federal de São Carlos\",\n",
        "    \"Universidade Federal de São João del-Rei\",\n",
        "    \"Universidade Federal de São Paulo\",\n",
        "    \"Universidade Federal de Uberlândia\",\n",
        "    \"Universidade Federal de Viçosa\",\n",
        "    \"Universidade Federal do ABC\",\n",
        "    \"Universidade Federal do Espírito Santo\",\n",
        "    \"Universidade Federal do Estado do Rio de Janeiro\",\n",
        "    \"Universidade Federal do Rio de Janeiro\",\n",
        "    \"Universidade Federal do Triângulo Mineiro\",\n",
        "    \"Universidade Federal dos Vales do Jequitinhonha e Mucuri\",\n",
        "    \"Universidade Federal Fluminense\",\n",
        "    \"Universidade Federal Rural do Rio de Janeiro\",\n",
        "    \"Universidade Tecnológica Federal do Paraná\",\n",
        "    \"Universidade Federal da Fronteira Sul\",\n",
        "    \"Universidade Federal da Integração Latino-Americana\",\n",
        "    \"Universidade Federal de Ciências da Saúde de Porto Alegre\",\n",
        "    \"Universidade Federal de Pelotas\",\n",
        "    \"Universidade Federal de Santa Catarina\",\n",
        "    \"Universidade Federal de Santa Maria\",\n",
        "    \"Universidade Federal do Pampa\",\n",
        "    \"Universidade Federal do Paraná\",\n",
        "    \"Universidade Federal do Rio Grande\",\n",
        "    \"Universidade Federal do Rio Grande do Sul\",\n",
        "    \"Universidade Federal do Agreste de Pernambuco\",\n",
        "    \"Universidade Federal do Delta do Parnaíba\",\n",
        "    \"Universidade Federal do Norte do Tocantins\"\n",
        "]\n",
        "\n",
        "universidades_cx_alta=[]\n",
        "\n",
        "for u in universidades:\n",
        "    universidades_cx_alta.append(u.upper())\n",
        "\n",
        "universidades_cx_alta.sort()\n",
        "\n",
        "print(universidades_cx_alta)"
      ],
      "metadata": {
        "colab": {
          "base_uri": "https://localhost:8080/"
        },
        "id": "M8hS2sEewWVR",
        "outputId": "87fc8d4e-8fc8-4d92-9ab6-74fb05307af8"
      },
      "id": "M8hS2sEewWVR",
      "execution_count": null,
      "outputs": [
        {
          "output_type": "stream",
          "name": "stdout",
          "text": [
            "['UNIVERSIDADE DE BRASÍLIA', 'UNIVERSIDADE FEDERAL DA BAHIA', 'UNIVERSIDADE FEDERAL DA FRONTEIRA SUL', 'UNIVERSIDADE FEDERAL DA GRANDE DOURADOS', 'UNIVERSIDADE FEDERAL DA INTEGRAÇÃO LATINO-AMERICANA', 'UNIVERSIDADE FEDERAL DA LUSOFONIA AFRO-BRASILEIRA', 'UNIVERSIDADE FEDERAL DA PARAÍBA', 'UNIVERSIDADE FEDERAL DE ALAGOAS', 'UNIVERSIDADE FEDERAL DE ALFENAS', 'UNIVERSIDADE FEDERAL DE CAMPINA GRANDE', 'UNIVERSIDADE FEDERAL DE CATALÃO', 'UNIVERSIDADE FEDERAL DE CIÊNCIAS DA SAÚDE DE PORTO ALEGRE', 'UNIVERSIDADE FEDERAL DE GOIÁS', 'UNIVERSIDADE FEDERAL DE ITAJUBÁ', 'UNIVERSIDADE FEDERAL DE JATAÍ', 'UNIVERSIDADE FEDERAL DE JUIZ DE FORA', 'UNIVERSIDADE FEDERAL DE LAVRAS', 'UNIVERSIDADE FEDERAL DE MATO GROSSO', 'UNIVERSIDADE FEDERAL DE MATO GROSSO DO SUL', 'UNIVERSIDADE FEDERAL DE MINAS GERAIS', 'UNIVERSIDADE FEDERAL DE OURO PRETO', 'UNIVERSIDADE FEDERAL DE PELOTAS', 'UNIVERSIDADE FEDERAL DE PERNAMBUCO', 'UNIVERSIDADE FEDERAL DE RONDONÓPOLIS', 'UNIVERSIDADE FEDERAL DE RONDÔNIA', 'UNIVERSIDADE FEDERAL DE RORAIMA', 'UNIVERSIDADE FEDERAL DE SANTA CATARINA', 'UNIVERSIDADE FEDERAL DE SANTA MARIA', 'UNIVERSIDADE FEDERAL DE SERGIPE', 'UNIVERSIDADE FEDERAL DE SÃO CARLOS', 'UNIVERSIDADE FEDERAL DE SÃO JOÃO DEL-REI', 'UNIVERSIDADE FEDERAL DE SÃO PAULO', 'UNIVERSIDADE FEDERAL DE UBERLÂNDIA', 'UNIVERSIDADE FEDERAL DE VIÇOSA', 'UNIVERSIDADE FEDERAL DO ABC', 'UNIVERSIDADE FEDERAL DO ACRE', 'UNIVERSIDADE FEDERAL DO AGRESTE DE PERNAMBUCO', 'UNIVERSIDADE FEDERAL DO AMAPÁ', 'UNIVERSIDADE FEDERAL DO AMAZONAS', 'UNIVERSIDADE FEDERAL DO CARIRI', 'UNIVERSIDADE FEDERAL DO CEARÁ', 'UNIVERSIDADE FEDERAL DO DELTA DO PARNAÍBA', 'UNIVERSIDADE FEDERAL DO ESPÍRITO SANTO', 'UNIVERSIDADE FEDERAL DO ESTADO DO RIO DE JANEIRO', 'UNIVERSIDADE FEDERAL DO MARANHÃO', 'UNIVERSIDADE FEDERAL DO NORTE DO TOCANTINS', 'UNIVERSIDADE FEDERAL DO OESTE DA BAHIA', 'UNIVERSIDADE FEDERAL DO OESTE DO PARÁ', 'UNIVERSIDADE FEDERAL DO PAMPA', 'UNIVERSIDADE FEDERAL DO PARANÁ', 'UNIVERSIDADE FEDERAL DO PARÁ', 'UNIVERSIDADE FEDERAL DO PIAUÍ', 'UNIVERSIDADE FEDERAL DO RECÔNCAVO DA BAHIA', 'UNIVERSIDADE FEDERAL DO RIO DE JANEIRO', 'UNIVERSIDADE FEDERAL DO RIO GRANDE', 'UNIVERSIDADE FEDERAL DO RIO GRANDE DO NORTE', 'UNIVERSIDADE FEDERAL DO RIO GRANDE DO SUL', 'UNIVERSIDADE FEDERAL DO SUL DA BAHIA', 'UNIVERSIDADE FEDERAL DO SUL E SUDESTE DO PARÁ', 'UNIVERSIDADE FEDERAL DO TOCANTINS', 'UNIVERSIDADE FEDERAL DO TRIÂNGULO MINEIRO', 'UNIVERSIDADE FEDERAL DO VALE DO SÃO FRANCISCO', 'UNIVERSIDADE FEDERAL DOS VALES DO JEQUITINHONHA E MUCURI', 'UNIVERSIDADE FEDERAL FLUMINENSE', 'UNIVERSIDADE FEDERAL RURAL DA AMAZÔNIA', 'UNIVERSIDADE FEDERAL RURAL DE PERNAMBUCO', 'UNIVERSIDADE FEDERAL RURAL DO RIO DE JANEIRO', 'UNIVERSIDADE FEDERAL RURAL DO SEMI-ÁRIDO', 'UNIVERSIDADE TECNOLÓGICA FEDERAL DO PARANÁ']\n"
          ]
        }
      ]
    },
    {
      "cell_type": "code",
      "source": [
        "#1) Encontre o oitavo elemento da lista\n",
        "\n",
        "print(universidades_cx_alta[7])\n",
        "\n",
        "# 2) Verifique a posição de UNIVERSIDADE FEDERAL DO PIAUÍ\n",
        "\n",
        "print(universidades_cx_alta.index(\"UNIVERSIDADE FEDERAL DO PIAUÍ\"))\n",
        "print(universidades_cx_alta[51])\n",
        "# 3) Qual é o antepenúltimo elemento da lista?\n",
        "print(universidades_cx_alta[-3])\n",
        "# 4) Verifique se o CESMAC está na lista.\n",
        "if \"CESMAC\" in universidades_cx_alta:\n",
        "    print(\"CESMAC é Universidade Federal\")\n",
        "else:\n",
        "    print(\"CESMAC não é Universidade Federal\")\n"
      ],
      "metadata": {
        "colab": {
          "base_uri": "https://localhost:8080/"
        },
        "id": "vcYFN0_WyTbx",
        "outputId": "79e7dede-92a1-4092-9853-3e05978f836f"
      },
      "id": "vcYFN0_WyTbx",
      "execution_count": null,
      "outputs": [
        {
          "output_type": "stream",
          "name": "stdout",
          "text": [
            "UNIVERSIDADE FEDERAL DE ALAGOAS\n",
            "51\n",
            "UNIVERSIDADE FEDERAL DO PIAUÍ\n",
            "UNIVERSIDADE FEDERAL RURAL DO RIO DE JANEIRO\n",
            "CESMAC não é Universidade Federal\n"
          ]
        }
      ]
    },
    {
      "cell_type": "markdown",
      "id": "c7b5769e",
      "metadata": {
        "id": "c7b5769e"
      },
      "source": [
        "## 🧾 Exemplo aplicado – Registro de vendas do dia"
      ]
    },
    {
      "cell_type": "code",
      "execution_count": null,
      "id": "e7d48e53",
      "metadata": {
        "id": "e7d48e53"
      },
      "outputs": [],
      "source": [
        "vendas = [100, 150, 80, 130, 90]\n",
        "total = 0\n",
        "for valor in vendas:\n",
        "    total += valor\n",
        "print(\"Total vendido no dia: R$\", total)"
      ]
    },
    {
      "cell_type": "markdown",
      "id": "1f4daa8c",
      "metadata": {
        "id": "1f4daa8c"
      },
      "source": [
        "## 🔁 Parte 2 – Dicionários"
      ]
    },
    {
      "cell_type": "markdown",
      "source": [
        "🧾 O que é um dicionário em Python?\n",
        "\n",
        "Um dicionário é uma estrutura de dados que armazena pares de informação, organizados como chave e valor. Em vez de usar um número como posição (como nas listas), o dicionário usa nomes descritivos (as chaves) para acessar os dados.\n",
        "\n",
        "📌 Características:\n",
        "Ideal para representar entidades com várias informações associadas (ex: um cliente com nome, CPF e cidade).\n",
        "\n",
        "Os dados são armazenados em pares: \"chave\": valor.\n",
        "\n",
        "Os dicionários também são mutáveis e desordenados (a ordem dos itens pode variar)."
      ],
      "metadata": {
        "id": "nq-VQGywhVii"
      },
      "id": "nq-VQGywhVii"
    },
    {
      "cell_type": "code",
      "execution_count": null,
      "id": "5d3168e8",
      "metadata": {
        "colab": {
          "base_uri": "https://localhost:8080/"
        },
        "id": "5d3168e8",
        "outputId": "3b92d81c-f5b2-43d3-9935-67374d852067"
      },
      "outputs": [
        {
          "output_type": "stream",
          "name": "stdout",
          "text": [
            "{'nome': 'Notebook', 'preco': 3500.0, 'estoque': 15}\n"
          ]
        }
      ],
      "source": [
        "# Criando um dicionário\n",
        "# está entre chaves\n",
        "# os elementos são separados por vírgula\n",
        "# CHAVE : VALOR\n",
        "\n",
        "produto = {\"nome\": \"Notebook\", \"preco\": 3500.0, \"estoque\": 15}\n",
        "print(produto)"
      ]
    },
    {
      "cell_type": "code",
      "execution_count": null,
      "id": "03e46595",
      "metadata": {
        "colab": {
          "base_uri": "https://localhost:8080/"
        },
        "id": "03e46595",
        "outputId": "35d10448-daba-491d-ff06-01a4f5b32a4b"
      },
      "outputs": [
        {
          "output_type": "stream",
          "name": "stdout",
          "text": [
            "Notebook\n",
            "3500.0\n",
            "15\n",
            "{'nome': 'Notebook', 'preco': 3500.0, 'estoque': 12}\n"
          ]
        }
      ],
      "source": [
        "# Acessando e modificando valores\n",
        "print(produto[\"nome\"])\n",
        "print(produto[\"preco\"])\n",
        "print(produto[\"estoque\"])\n",
        "produto[\"estoque\"] = 12\n",
        "print(produto)"
      ]
    },
    {
      "cell_type": "code",
      "execution_count": null,
      "id": "e580d9fb",
      "metadata": {
        "colab": {
          "base_uri": "https://localhost:8080/"
        },
        "id": "e580d9fb",
        "outputId": "d392e2d9-fe79-4b26-a39f-33bcf8351cd1"
      },
      "outputs": [
        {
          "output_type": "stream",
          "name": "stdout",
          "text": [
            "{'nome': 'Notebook', 'preco': 3500.0, 'estoque': 12, 'fabricante': 'Dell', 'processador': 'Intel core i7'}\n"
          ]
        }
      ],
      "source": [
        "# Adicionando nova chave\n",
        "produto[\"fabricante\"] = \"Dell\" #fabricante é a chave e Dell é o valor\n",
        "produto[\"processador\"] = \"Intel core i7\"\n",
        "print(produto)"
      ]
    },
    {
      "cell_type": "code",
      "execution_count": null,
      "id": "5707f38f",
      "metadata": {
        "colab": {
          "base_uri": "https://localhost:8080/"
        },
        "id": "5707f38f",
        "outputId": "dc2e64ac-69e0-4867-8298-ba2cfc0f23df"
      },
      "outputs": [
        {
          "output_type": "stream",
          "name": "stdout",
          "text": [
            "{'nome': 'Notebook', 'preco': 3500.0, 'estoque': 12, 'processador': 'Intel core i7'}\n"
          ]
        }
      ],
      "source": [
        "# Removendo chave\n",
        "if \"fabricante\" in produto:\n",
        "    del produto[\"fabricante\"]\n",
        "print(produto)"
      ]
    },
    {
      "cell_type": "code",
      "execution_count": null,
      "id": "3ff8a750",
      "metadata": {
        "colab": {
          "base_uri": "https://localhost:8080/"
        },
        "id": "3ff8a750",
        "outputId": "4924f72c-ad90-4eb6-8fe4-9a8f7edb25e3"
      },
      "outputs": [
        {
          "output_type": "stream",
          "name": "stdout",
          "text": [
            "Preço atual: 3500.0\n"
          ]
        }
      ],
      "source": [
        "# Verificando existência de chave\n",
        "if \"preco\" in produto:\n",
        "    print(\"Preço atual:\", produto[\"preco\"])"
      ]
    },
    {
      "cell_type": "code",
      "execution_count": null,
      "id": "9d3630db",
      "metadata": {
        "id": "9d3630db",
        "colab": {
          "base_uri": "https://localhost:8080/"
        },
        "outputId": "784f214c-8847-46ec-f9ad-f5bc4647473e"
      },
      "outputs": [
        {
          "output_type": "stream",
          "name": "stdout",
          "text": [
            "dict_keys(['nome', 'preco', 'estoque', 'processador'])\n",
            "dict_values(['Notebook', 3500.0, 12, 'Intel core i7'])\n",
            "dict_items([('nome', 'Notebook'), ('preco', 3500.0), ('estoque', 12), ('processador', 'Intel core i7')])\n",
            "nome : Notebook\n",
            "preco : 3500.0\n",
            "estoque : 12\n",
            "processador : Intel core i7\n"
          ]
        }
      ],
      "source": [
        "# Listando chaves, valores e itens\n",
        "print(produto.keys())\n",
        "print(produto.values())\n",
        "print(produto.items())\n",
        "\n",
        "# for ELEMENTO in CONJUNTO:\n",
        "\n",
        "for a, b in produto.items():\n",
        "    print(a, \":\", b)"
      ]
    },
    {
      "cell_type": "code",
      "execution_count": null,
      "id": "2f1f1fb3",
      "metadata": {
        "id": "2f1f1fb3",
        "colab": {
          "base_uri": "https://localhost:8080/"
        },
        "outputId": "bdcbeee1-e7f5-4ff7-b06f-761edac24373"
      },
      "outputs": [
        {
          "output_type": "stream",
          "name": "stdout",
          "text": [
            "{}\n"
          ]
        }
      ],
      "source": [
        "# Apagando todos os itens (cuidado!)\n",
        "produto.clear()\n",
        "print(produto)"
      ]
    },
    {
      "cell_type": "markdown",
      "id": "ccafae50",
      "metadata": {
        "id": "ccafae50"
      },
      "source": [
        "## 📊 Exemplo aplicado – Catálogo de produtos"
      ]
    },
    {
      "cell_type": "code",
      "execution_count": null,
      "id": "69439187",
      "metadata": {
        "colab": {
          "base_uri": "https://localhost:8080/"
        },
        "id": "69439187",
        "outputId": "ebf47640-abff-43d8-a1ea-c299546ab0a1"
      },
      "outputs": [
        {
          "output_type": "stream",
          "name": "stdout",
          "text": [
            "Caneta custa R$ 2.5\n",
            "Caderno custa R$ 12.0\n",
            "Mochila custa R$ 90.0\n"
          ]
        }
      ],
      "source": [
        "#dicionário dentro de lista\n",
        "catalogo = [\n",
        "    {\"nome\": \"Caneta\", \"preco\": 2.5},\n",
        "    {\"nome\": \"Caderno\", \"preco\": 12.0},\n",
        "    {\"nome\": \"Mochila\", \"preco\": 90.0}\n",
        "]\n",
        "\n",
        "for item in catalogo:\n",
        "    print(item[\"nome\"], \"custa R$\", item[\"preco\"])"
      ]
    },
    {
      "cell_type": "code",
      "source": [
        "#lista dentro de dicionário\n",
        "valores=[\"Adhemar\", \"Ranciaro\", \"Neto\"]\n",
        "\n",
        "teste={\"nome\": valores}\n",
        "\n",
        "#print(teste)\n",
        "\n",
        "print(teste[\"nome\"])\n",
        "\n",
        "print(teste[\"nome\"][0])\n",
        "\n",
        "print(teste[\"nome\"][1])"
      ],
      "metadata": {
        "colab": {
          "base_uri": "https://localhost:8080/"
        },
        "id": "nN5iBH-u7R5a",
        "outputId": "64acc02c-38b6-4028-b2f9-0d18479e20cb"
      },
      "id": "nN5iBH-u7R5a",
      "execution_count": null,
      "outputs": [
        {
          "output_type": "stream",
          "name": "stdout",
          "text": [
            "['Adhemar', 'Ranciaro', 'Neto']\n",
            "Adhemar\n",
            "Ranciaro\n"
          ]
        }
      ]
    },
    {
      "cell_type": "markdown",
      "source": [
        "## 🧮 Lembre-se\n",
        "\n",
        "| Conceito       | Lista                                    | Dicionário                                      |\n",
        "| -------------- | ---------------------------------------- | ----------------------------------------------- |\n",
        "| Organização    | Sequência de valores (índices numéricos) | Pares nomeados (chave\\:valor)                   |\n",
        "| Exemplo de uso | Lista de preços, lista de clientes       | Informações detalhadas de um produto ou cliente |\n",
        "| Acesso         | Pela posição (ex: `lista[0]`)            | Pela chave (ex: `dicionario[\"nome\"]`)           |\n"
      ],
      "metadata": {
        "id": "Zp59OHjZhpWq"
      },
      "id": "Zp59OHjZhpWq"
    },
    {
      "cell_type": "markdown",
      "id": "9f858b2b",
      "metadata": {
        "id": "9f858b2b"
      },
      "source": [
        "## 📝 Parte 3 – Exercícios\n",
        "### 🔹 Exercício 1\n",
        "Crie uma lista com os preços de 5 produtos. Depois:\n",
        "- Some todos os preços\n",
        "- Calcule e imprima a média dos preços\n",
        "\n",
        "### 🔹 Exercício 2\n",
        "Crie um dicionário com os dados de um cliente:\n",
        "- nome, idade, cidade, cliente_vip (bool)\n",
        "Depois, imprima as informações com `print()` formatado.\n",
        "\n",
        "### 🔹 Exercício 3\n",
        "Crie uma lista com 3 dicionários, representando funcionários com os campos:\n",
        "- nome, salário, cargo\n",
        "Use um `for` para imprimir o nome e o salário de cada um."
      ]
    },
    {
      "cell_type": "markdown",
      "id": "cb8f30a2",
      "metadata": {
        "id": "cb8f30a2"
      },
      "source": [
        "## 🧩 Tarefa para Casa\n",
        "Crie um programa que:\n",
        "1. Solicite ao usuário os dados de **3 produtos**: nome, preço e quantidade em estoque.\n",
        "2. Armazene esses dados em **dicionários**, e os dicionários dentro de uma **lista**.\n",
        "3. Depois, exiba um relatório com:\n",
        "   - O nome de cada produto\n",
        "   - O valor total de estoque (preço × quantidade)\n",
        "\n",
        "💡 Exemplo de saída esperada:\n",
        "```\n",
        "Produto: Caneta – Valor em estoque: R$ 75.00\n",
        "Produto: Caderno – Valor em estoque: R$ 240.00\n",
        "Produto: Mochila – Valor em estoque: R$ 540.00\n",
        "```"
      ]
    }
  ],
  "metadata": {
    "colab": {
      "provenance": []
    },
    "language_info": {
      "name": "python"
    },
    "kernelspec": {
      "name": "python3",
      "display_name": "Python 3"
    }
  },
  "nbformat": 4,
  "nbformat_minor": 5
}