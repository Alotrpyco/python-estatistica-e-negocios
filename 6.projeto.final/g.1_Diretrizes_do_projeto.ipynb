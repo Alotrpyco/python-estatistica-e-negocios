{
  "cells": [
    {
      "cell_type": "markdown",
      "metadata": {
        "id": "u_xJpueHc6sl"
      },
      "source": [
        "# 🏁 – Projeto Final e Apresentações"
      ]
    },
    {
      "cell_type": "markdown",
      "metadata": {
        "id": "kc6S8g-cdEbT"
      },
      "source": [
        "### 🎯 Objetivos\n",
        "- Aplicar os conhecimentos adquiridos ao longo do curso\n",
        "- Trabalhar com dados reais ou simulados\n",
        "- Apresentar os resultados com visualizações\n",
        "- Desenvolver habilidades de comunicação e análise"
      ]
    },
    {
      "cell_type": "markdown",
      "metadata": {
        "id": "aSNt04oudF86"
      },
      "source": [
        "## 📌 Etapas do Projeto Final\n",
        "1. Desenvolvimento de análises estatísticas\n",
        "2. Construção de visualizações com gráficos\n",
        "3. Interpretação e apresentação dos resultados"
      ]
    },
    {
      "cell_type": "markdown",
      "metadata": {
        "id": "hDO6OcZEdRNv"
      },
      "source": [
        "### 📊 Economia (ECO)\n",
        "- Sorteio feito pelo professor para a escolha da base a ser trabalhada\n"
      ]
    },
    {
      "cell_type": "markdown",
      "metadata": {
        "id": "08f5NUuFdqJB"
      },
      "source": [
        "## 📋 Estrutura Esperada do Projeto\n",
        "| Seção               | Conteúdo Esperado                                                        |\n",
        "|---------------------|---------------------------------------------------------------------------|\n",
        "| Introdução          | Apresentação do problema ou contexto                                      |\n",
        "| Conjunto de Dados   | Fonte, estrutura e breve descrição                                        |\n",
        "| Análises Aplicadas  | Uso de `pandas` para agrupar, filtrar, calcular médias, totais etc.       |\n",
        "| Visualizações       | Uso de gráficos com `matplotlib` ou `pandas` para mostrar padrões         |\n",
        "| Conclusão           | Interpretação dos resultados com base nas evidências                     |"
      ]
    },
    {
      "cell_type": "markdown",
      "metadata": {
        "id": "UgCJlJdtdr4B"
      },
      "source": [
        "## 🗣️ Apresentação\n",
        "- Cada grupo/aluno terá **5–10 minutos** para apresentação\n",
        "- Haverá **feedback coletivo e individual**\n",
        "- A banca será composta por colegas e professor"
      ]
    },
    {
      "cell_type": "markdown",
      "metadata": {
        "id": "zv-j0PYwdx1s"
      },
      "source": [
        "## ✅ Avaliação\n",
        "| Critério                    | Peso |\n",
        "|-----------------------------|------|\n",
        "| Aplicação de códigos        | 30%  |\n",
        "| Visualização de dados       | 20%  |\n",
        "| Clareza e interpretação     | 30%  |\n",
        "| Comunicação e apresentação  | 20%  |"
      ]
    }
  ],
  "metadata": {
    "colab": {
      "provenance": []
    },
    "kernelspec": {
      "display_name": "Python 3",
      "name": "python3"
    },
    "language_info": {
      "name": "python"
    }
  },
  "nbformat": 4,
  "nbformat_minor": 0
}
