{
  "cells": [
    {
      "cell_type": "markdown",
      "id": "56e20653",
      "metadata": {
        "id": "56e20653"
      },
      "source": [
        "# 📘 Aula 2 – Tipos de Dados, Conversões e Funções Simples\n",
        "**Objetivos da Aula**:\n",
        "- Explorar os tipos de dados fundamentais do Python.\n",
        "- Compreender como converter entre tipos (`int`, `float`, `str`, `bool`).\n",
        "- Coletar dados do usuário com `input()`.\n",
        "- Criar e usar funções simples com argumentos e retorno.\n",
        "- Aplicar funções em contextos de negócios e finanças."
      ]
    },
    {
      "cell_type": "markdown",
      "id": "bcc07eda",
      "metadata": {
        "id": "bcc07eda"
      },
      "source": [
        "## ✅ Parte 1 – Tipos de Dados em Detalhe"
      ]
    },
    {
      "cell_type": "code",
      "execution_count": null,
      "id": "1dd930c1",
      "metadata": {
        "colab": {
          "base_uri": "https://localhost:8080/"
        },
        "id": "1dd930c1",
        "outputId": "2237c643-790e-4d6b-cf0c-30a3be78b049"
      },
      "outputs": [
        {
          "output_type": "stream",
          "name": "stdout",
          "text": [
            "<class 'int'>\n",
            "<class 'float'>\n",
            "<class 'str'>\n",
            "<class 'bool'>\n"
          ]
        }
      ],
      "source": [
        "# Tipos básicos\n",
        "quantidade = 150\n",
        "print(type(quantidade))\n",
        "\n",
        "salario = 3270.75\n",
        "print(type(salario))\n",
        "\n",
        "nome_empresa = \"Alfa Tecnologia\"\n",
        "print(type(nome_empresa))\n",
        "\n",
        "estoque_disponivel = True\n",
        "print(type(estoque_disponivel))"
      ]
    },
    {
      "cell_type": "markdown",
      "id": "3e9d8432",
      "metadata": {
        "id": "3e9d8432"
      },
      "source": [
        "## 🔁 Parte 2 – Conversão entre Tipos"
      ]
    },
    {
      "cell_type": "code",
      "execution_count": null,
      "id": "558a640e",
      "metadata": {
        "id": "558a640e"
      },
      "outputs": [],
      "source": [
        "# Conversão entre tipos\n",
        "idade_str = \"25\"\n",
        "idade = int(idade_str)\n",
        "print(idade + 5)\n",
        "\n",
        "preco = 99.90\n",
        "mensagem = \"O valor é R$ \" + str(preco)\n",
        "print(mensagem)\n",
        "\n",
        "# print(\"Ano de nascimento: \" + 2000)  # ERRO\n",
        "print(\"Ano de nascimento: \" + str(2000))  # Correto"
      ]
    },
    {
      "cell_type": "markdown",
      "source": [
        "## Operações com strings"
      ],
      "metadata": {
        "id": "LOSYU0APfSJe"
      },
      "id": "LOSYU0APfSJe"
    },
    {
      "cell_type": "code",
      "source": [
        "# concatenação\n",
        "\n",
        "texto1 = \"Olá \"\n",
        "texto2 = \"mundo!\"\n",
        "\n",
        "texto3=texto1+texto2\n",
        "\n",
        "print(texto3)\n",
        "\n"
      ],
      "metadata": {
        "colab": {
          "base_uri": "https://localhost:8080/"
        },
        "id": "4yS5ESddfcEE",
        "outputId": "369e4225-0139-4365-e372-485fb6aef440"
      },
      "id": "4yS5ESddfcEE",
      "execution_count": null,
      "outputs": [
        {
          "output_type": "stream",
          "name": "stdout",
          "text": [
            "Olá mundo!\n"
          ]
        }
      ]
    },
    {
      "cell_type": "code",
      "source": [
        "#repetição\n",
        "\n",
        "a=\"Olá \"\n",
        "\n",
        "b=a*5\n",
        "\n",
        "print(b)\n"
      ],
      "metadata": {
        "colab": {
          "base_uri": "https://localhost:8080/"
        },
        "id": "z3yCwCN2gEDk",
        "outputId": "9ccfd007-07c2-4542-f4fd-97b886d59633"
      },
      "id": "z3yCwCN2gEDk",
      "execution_count": null,
      "outputs": [
        {
          "output_type": "stream",
          "name": "stdout",
          "text": [
            "Olá Olá Olá Olá Olá \n"
          ]
        }
      ]
    },
    {
      "cell_type": "code",
      "source": [
        "#indexação\n",
        "\n",
        "a=\"Adhemar\"\n",
        "\n",
        "#print(a[0])\n",
        "#print(a[1])\n",
        "#print(a[2])\n",
        "#print(a[3])\n",
        "#print(a[4])\n",
        "#print(a[5])\n",
        "#print(a[6])\n",
        "\n",
        "\n",
        "print(a[-1])"
      ],
      "metadata": {
        "colab": {
          "base_uri": "https://localhost:8080/"
        },
        "id": "GHkVZsbMgd-D",
        "outputId": "bfc3451d-1652-4050-be40-9890f899342a"
      },
      "id": "GHkVZsbMgd-D",
      "execution_count": null,
      "outputs": [
        {
          "output_type": "stream",
          "name": "stdout",
          "text": [
            "r\n"
          ]
        }
      ]
    },
    {
      "cell_type": "code",
      "source": [
        "#split\n",
        "\n",
        "a=\"umAdoisAtrês\"\n",
        "\n",
        "b=a.split(\"A\")\n",
        "\n",
        "print(b)\n",
        "\n",
        "print(b[0])\n",
        "print(b[2])\n",
        "\n",
        "\n"
      ],
      "metadata": {
        "colab": {
          "base_uri": "https://localhost:8080/"
        },
        "id": "ZgE4ipsjiONp",
        "outputId": "ba0ef7d3-aabb-47fa-f4e2-0b646f1e0bfd"
      },
      "id": "ZgE4ipsjiONp",
      "execution_count": null,
      "outputs": [
        {
          "output_type": "stream",
          "name": "stdout",
          "text": [
            "['um', 'dois', 'três']\n",
            "um\n",
            "três\n"
          ]
        }
      ]
    },
    {
      "cell_type": "code",
      "source": [
        "#join\n",
        "\n",
        "a=[\"um\",\"dois\",\"três\"]\n",
        "\n",
        "b=\";\".join(a)\n",
        "\n",
        "print(b)\n",
        "\n"
      ],
      "metadata": {
        "colab": {
          "base_uri": "https://localhost:8080/"
        },
        "id": "Tok1W2SXkbX9",
        "outputId": "021b9682-4994-4d8c-f7d6-70b13493e10a"
      },
      "id": "Tok1W2SXkbX9",
      "execution_count": null,
      "outputs": [
        {
          "output_type": "stream",
          "name": "stdout",
          "text": [
            "um;dois;três\n"
          ]
        }
      ]
    },
    {
      "cell_type": "markdown",
      "id": "1b00751f",
      "metadata": {
        "id": "1b00751f"
      },
      "source": [
        "## 🧑‍💻 Parte 3 – Entrada de Dados com `input()`"
      ]
    },
    {
      "cell_type": "code",
      "execution_count": null,
      "id": "6ee09784",
      "metadata": {
        "colab": {
          "base_uri": "https://localhost:8080/"
        },
        "id": "6ee09784",
        "outputId": "e7b387b2-960a-4bfc-d4af-2ad1caf62c3a"
      },
      "outputs": [
        {
          "output_type": "stream",
          "name": "stdout",
          "text": [
            "Digite seu nome: Adhemar\n",
            "Digite sua idade: 19\n",
            "Olá, Adhemar\n",
            "Daqui a 5 anos, você terá 24 anos.\n"
          ]
        }
      ],
      "source": [
        "nome = input(\"Digite seu nome: \")\n",
        "idade = int(input(\"Digite sua idade: \"))\n",
        "print(\"Olá,\", nome)\n",
        "print(\"Daqui a 5 anos, você terá\", idade + 5, \"anos.\")"
      ]
    },
    {
      "cell_type": "code",
      "source": [
        "animal = input(\"Você gosta de que tipo de animal?\")\n",
        "print(\"O\", animal, \"é um ótimo animal!\")"
      ],
      "metadata": {
        "colab": {
          "base_uri": "https://localhost:8080/"
        },
        "id": "9nrQl_PtoWhr",
        "outputId": "74c80808-d2c4-496b-d04d-32e183ec0008"
      },
      "id": "9nrQl_PtoWhr",
      "execution_count": null,
      "outputs": [
        {
          "output_type": "stream",
          "name": "stdout",
          "text": [
            "Você gosta de que tipo de animal?Bicho Preguiça\n",
            "O Bicho Preguiça é um ótimo animal!\n"
          ]
        }
      ]
    },
    {
      "cell_type": "markdown",
      "id": "454e7f75",
      "metadata": {
        "id": "454e7f75"
      },
      "source": [
        "## 🧩 Parte 4 – Criando Funções"
      ]
    },
    {
      "cell_type": "code",
      "source": [
        "def calc_receita(preco_unitario, quantidade):\n",
        "  receita=preco_unitario*quantidade\n",
        "  return receita\n",
        "\n",
        "a=calc_receita(7,36)\n",
        "print(a)\n"
      ],
      "metadata": {
        "colab": {
          "base_uri": "https://localhost:8080/"
        },
        "id": "D2UBtNTQuVB3",
        "outputId": "5b15fa14-cb6c-40d3-c285-1cabf9a08e0d"
      },
      "id": "D2UBtNTQuVB3",
      "execution_count": null,
      "outputs": [
        {
          "output_type": "stream",
          "name": "stdout",
          "text": [
            "252\n"
          ]
        }
      ]
    },
    {
      "cell_type": "code",
      "execution_count": null,
      "id": "e057033a",
      "metadata": {
        "colab": {
          "base_uri": "https://localhost:8080/"
        },
        "id": "e057033a",
        "outputId": "e66cdea9-b7df-4a39-c96b-83dc4859f98e"
      },
      "outputs": [
        {
          "output_type": "stream",
          "name": "stdout",
          "text": [
            "Lucro: 40\n"
          ]
        }
      ],
      "source": [
        "def calcular_lucro(preco_venda, custo):\n",
        "    lucro = preco_venda - custo\n",
        "    return lucro\n",
        "\n",
        "print(\"Lucro:\", calcular_lucro(100, 60))"
      ]
    },
    {
      "cell_type": "code",
      "execution_count": null,
      "id": "324b59af",
      "metadata": {
        "id": "324b59af"
      },
      "outputs": [],
      "source": [
        "def margem_lucro(preco_venda, custo):\n",
        "    lucro = preco_venda - custo\n",
        "    margem = (lucro / preco_venda) * 100\n",
        "    return margem\n",
        "\n",
        "print(\"Margem de lucro: {:.2f}%\".format(margem_lucro(200, 140)))"
      ]
    },
    {
      "cell_type": "code",
      "source": [
        "# raiz da equação do primeiro grau ax+b=c     x=(c-b)/a\n",
        "\n",
        "def raiz_eq_1_grau(a,b,c):\n",
        "  raiz=(c-b)/a\n",
        "  return raiz\n",
        "\n",
        "a=2\n",
        "b=4\n",
        "c=9\n",
        "\n",
        "print(raiz_eq_1_grau(a,b,c))\n",
        "\n",
        "\n",
        "\n"
      ],
      "metadata": {
        "colab": {
          "base_uri": "https://localhost:8080/"
        },
        "id": "eRBLTgmJxxE8",
        "outputId": "bdb9f86f-d78b-4f3c-eb0c-16d20d2cea70"
      },
      "id": "eRBLTgmJxxE8",
      "execution_count": null,
      "outputs": [
        {
          "output_type": "stream",
          "name": "stdout",
          "text": [
            "2.5\n"
          ]
        }
      ]
    },
    {
      "cell_type": "code",
      "source": [
        "# raiz da equação do primeiro grau ax^2+bx+c=0\n",
        "\n",
        "import cmath\n",
        "\n",
        "\n",
        "def eq_2_grau(a,b,c):\n",
        "  delta=b**2-4*a*c\n",
        "  x_1=(-b+cmath.sqrt(delta))/(2*a)\n",
        "  x_2=(-b-cmath.sqrt(delta))/(2*a)\n",
        "  return x_1,x_2\n",
        "\n",
        "a = 1\n",
        "b = 1\n",
        "c = 1\n",
        "\n",
        "\n",
        "d=eq_2_grau(a,b,c)\n",
        "\n",
        "print(d)"
      ],
      "metadata": {
        "colab": {
          "base_uri": "https://localhost:8080/"
        },
        "id": "NPdloEoUz0RK",
        "outputId": "82067b8f-865f-47a8-f35a-36523a0aa1ab"
      },
      "id": "NPdloEoUz0RK",
      "execution_count": null,
      "outputs": [
        {
          "output_type": "stream",
          "name": "stdout",
          "text": [
            "((-0.5+0.8660254037844386j), (-0.5-0.8660254037844386j))\n"
          ]
        }
      ]
    },
    {
      "cell_type": "code",
      "source": [
        "# raiz da equação do primeiro grau ax^2+bx+c=0\n",
        "\n",
        "import math\n",
        "\n",
        "\n",
        "def eq_2_grau(a,b,c):\n",
        "  delta=b**2-4*a*c\n",
        "  if delta<0:\n",
        "    return None\n",
        "  else:\n",
        "    x_1=(-b+math.sqrt(delta))/(2*a)\n",
        "    x_2=(-b-math.sqrt(delta))/(2*a)\n",
        "    return x_1,x_2\n",
        "\n",
        "a = 1\n",
        "b = -5\n",
        "c = 6\n",
        "\n",
        "\n",
        "d=eq_2_grau(a,b,c)\n",
        "\n",
        "print(d)"
      ],
      "metadata": {
        "colab": {
          "base_uri": "https://localhost:8080/"
        },
        "id": "mMTJT4d23NI2",
        "outputId": "c558cafa-7312-435b-9294-c1093c849ae3"
      },
      "id": "mMTJT4d23NI2",
      "execution_count": null,
      "outputs": [
        {
          "output_type": "stream",
          "name": "stdout",
          "text": [
            "(3.0, 2.0)\n"
          ]
        }
      ]
    },
    {
      "cell_type": "code",
      "execution_count": null,
      "id": "f2b1ffc9",
      "metadata": {
        "colab": {
          "base_uri": "https://localhost:8080/"
        },
        "id": "f2b1ffc9",
        "outputId": "94d0126e-67c7-4f9e-85d9-6046f4be2fa8"
      },
      "outputs": [
        {
          "output_type": "stream",
          "name": "stdout",
          "text": [
            "Digite seu nome: Sergio\n",
            "Olá, Sergio ! Seja bem-vindo(a) ao curso.\n"
          ]
        }
      ],
      "source": [
        "def saudacao(nome):\n",
        "    print(\"Olá,\", nome, \"! Seja bem-vindo(a) ao curso.\")\n",
        "\n",
        "nome_usuario = input(\"Digite seu nome: \")\n",
        "saudacao(nome_usuario)"
      ]
    },
    {
      "cell_type": "markdown",
      "id": "cf4e7a89",
      "metadata": {
        "id": "cf4e7a89"
      },
      "source": [
        "## 💼 Parte 5 – Aplicações Práticas"
      ]
    },
    {
      "cell_type": "code",
      "execution_count": null,
      "id": "0d3440c0",
      "metadata": {
        "colab": {
          "base_uri": "https://localhost:8080/"
        },
        "id": "0d3440c0",
        "outputId": "2b8043ad-4b22-4550-a7dd-5449de03b819"
      },
      "outputs": [
        {
          "output_type": "stream",
          "name": "stdout",
          "text": [
            "Receita: 8000\n"
          ]
        }
      ],
      "source": [
        "def calcular_receita(preco_unitario, quantidade):\n",
        "    return preco_unitario * quantidade\n",
        "\n",
        "print(\"Receita:\", calcular_receita(80, 100))"
      ]
    },
    {
      "cell_type": "code",
      "execution_count": null,
      "id": "883f50ef",
      "metadata": {
        "colab": {
          "base_uri": "https://localhost:8080/"
        },
        "id": "883f50ef",
        "outputId": "04cf9461-3325-4e48-90fc-e7eb5d6824c4"
      },
      "outputs": [
        {
          "output_type": "stream",
          "name": "stdout",
          "text": [
            "Imposto a pagar: 1800.0\n"
          ]
        }
      ],
      "source": [
        "def calcular_imposto(valor_venda, aliquota):\n",
        "    return valor_venda * aliquota\n",
        "\n",
        "print(\"Imposto a pagar:\", calcular_imposto(15000, 0.12))"
      ]
    },
    {
      "cell_type": "markdown",
      "id": "53ee4993",
      "metadata": {
        "id": "53ee4993"
      },
      "source": [
        "## 📝 Parte 6 – Exercícios\n",
        "### 🔹 Exercício 1\n",
        "Crie uma função chamada `valor_total_venda` que:\n",
        "- Receba o **preço unitário** e a **quantidade vendida**.\n",
        "- Retorne o **valor total da venda**.\n",
        "\n",
        "Use: preço = 45.00, quantidade = 18\n",
        "\n",
        "### 🔹 Exercício 2\n",
        "Crie uma função `calcular_imposto_simples` que:\n",
        "- Receba o valor da venda e a alíquota do imposto.\n",
        "- Retorne o valor a pagar.\n",
        "\n",
        "Use: valor da venda = 5200.00, alíquota = 0.12"
      ]
    },
    {
      "cell_type": "markdown",
      "id": "4937c0de",
      "metadata": {
        "id": "4937c0de"
      },
      "source": [
        "## 🧩 Tarefa para Casa\n",
        "Crie uma função chamada `calcular_dre` que:\n",
        "- Receba como parâmetros:\n",
        "  - Receita Bruta\n",
        "  - Custos\n",
        "  - Despesas Operacionais\n",
        "  - Impostos\n",
        "- Calcule o **lucro líquido** usando a fórmula:\n",
        "`Lucro líquido = Receita - Custos - Despesas - Impostos`\n",
        "\n",
        "Teste com os valores:\n",
        "- Receita: R\\$ 30.000\n",
        "- Custos: R\\$ 18.000\n",
        "- Despesas: R\\$ 5.000\n",
        "- Impostos: R\\$ 2.000"
      ]
    }
  ],
  "metadata": {
    "colab": {
      "provenance": []
    },
    "language_info": {
      "name": "python"
    },
    "kernelspec": {
      "name": "python3",
      "display_name": "Python 3"
    }
  },
  "nbformat": 4,
  "nbformat_minor": 5
}