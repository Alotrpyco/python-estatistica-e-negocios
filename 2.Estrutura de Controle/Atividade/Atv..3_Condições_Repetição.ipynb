{
  "nbformat": 4,
  "nbformat_minor": 0,
  "metadata": {
    "colab": {
      "provenance": []
    },
    "kernelspec": {
      "name": "python3",
      "display_name": "Python 3"
    },
    "language_info": {
      "name": "python"
    }
  },
  "cells": [
    {
      "cell_type": "markdown",
      "source": [
        "Nome: Sérgio Ricardo Vieira Torres Silva\n",
        "\n",
        "Curso: Economia\n",
        "\n",
        "Matrícula: 21211879"
      ],
      "metadata": {
        "id": "74WgqBeezvwr"
      }
    },
    {
      "cell_type": "markdown",
      "source": [],
      "metadata": {
        "id": "E5nYr7VOz8Oh"
      }
    },
    {
      "cell_type": "markdown",
      "source": [
        "### 📝  Exercício 1\n",
        "Peça ao usuário o valor de 5 vendas e armazene-as em uma lista.\n",
        "Depois, use um `for` para somar os valores e calcular a média.\n"
      ],
      "metadata": {
        "id": "W1Yv8D0g1PZG"
      }
    },
    {
      "cell_type": "code",
      "source": [
        "#Com auxílio do Gemini presente no Colab, alguns códigos foram possíveis adaptar a ideia do exercício.\n",
        "\n",
        "#criando uma lista de vendas em R$\n",
        "vendas = [250, 300, 50, 450, 360]\n",
        "\n",
        "soma_vendas = 0 #ponto de partida para acumular a soma\n",
        "\n",
        "for i in range(len(vendas)):\n",
        "  soma_vendas += vendas[i]\n",
        "\n",
        "media_vendas = soma_vendas / len(vendas) if vendas else 0\n",
        "\n",
        "print(f\"Lista de vendas: {vendas}\")\n",
        "print(f\"Soma das vendas: {soma_vendas}\")\n",
        "print(f\"Média das vendas: {media_vendas}\")"
      ],
      "metadata": {
        "colab": {
          "base_uri": "https://localhost:8080/"
        },
        "id": "ljAIJGwV2DmR",
        "outputId": "f787795f-79ca-4763-d5d6-854862616672"
      },
      "execution_count": null,
      "outputs": [
        {
          "output_type": "stream",
          "name": "stdout",
          "text": [
            "Lista de vendas: [250, 300, 50, 450, 360]\n",
            "Soma das vendas: 1410\n",
            "Média das vendas: 282.0\n"
          ]
        }
      ]
    },
    {
      "cell_type": "markdown",
      "source": [
        "❗Antes de iniciar o exercício 2, foi sugerido pelo professor montar uma pequena explanação sobre o laço de repetição *while*. Dessa forma, logo abaixo explico sobre isso. Portanto, com o site https://pythoniluminado.netlify.app/while-loops, sugerido pelo professor, destrincho os \"Slicing, Indexing, Membership Testing, Case Conversion\".\n",
        "\n",
        "1. O que é **while**?\n",
        "\n",
        "\n",
        "*   O comando **while** executa um bloco de código repetidamente enquanto uma condição for verdadeira.\n",
        "\n",
        "2. Conceitos que o que vão ser usados:\n",
        "\n",
        "\n",
        "a)  **Indexing:** Acessar um caractere específico de uma string pelo índice.\n",
        "\n",
        "b)   **Slicing:** Pegar uma fatia (parte) da string.\n",
        "\n",
        "c)   **Membership testing:** Verificar se um valor está em uma sequência com o operador in.\n",
        "\n",
        "d)   **Case conversion:** mudar maiúsculas para minúsculas e vice-versa.\n",
        "\n",
        "Abaixo segue os exemplos\n",
        "\n",
        "\n",
        "\n",
        "\n",
        "\n",
        "\n"
      ],
      "metadata": {
        "id": "DDq67Ke8Yrpd"
      }
    },
    {
      "cell_type": "code",
      "source": [
        "# a) Indexing\n",
        "print(\"python\"[0])"
      ],
      "metadata": {
        "colab": {
          "base_uri": "https://localhost:8080/",
          "height": 0
        },
        "id": "WcvDMoSGosB6",
        "outputId": "8a0d3347-e60e-4a46-b85e-506c23da1a00"
      },
      "execution_count": 5,
      "outputs": [
        {
          "output_type": "stream",
          "name": "stdout",
          "text": [
            "p\n"
          ]
        }
      ]
    },
    {
      "cell_type": "code",
      "source": [
        "# b) Slicing\n",
        "print(\"python\"[1:4])"
      ],
      "metadata": {
        "colab": {
          "base_uri": "https://localhost:8080/",
          "height": 0
        },
        "id": "a_KYJRJ6p7Rr",
        "outputId": "82694233-794b-40c5-9fa8-14c46f09bb8c"
      },
      "execution_count": 7,
      "outputs": [
        {
          "output_type": "stream",
          "name": "stdout",
          "text": [
            "yth\n"
          ]
        }
      ]
    },
    {
      "cell_type": "code",
      "source": [
        "# c) Membership testing\n",
        "print(\"th\" in \"python\")"
      ],
      "metadata": {
        "colab": {
          "base_uri": "https://localhost:8080/",
          "height": 0
        },
        "id": "-xyXiBZrqNMG",
        "outputId": "bd9abbd5-c3d8-4389-c569-80cceba9165a"
      },
      "execution_count": 11,
      "outputs": [
        {
          "output_type": "stream",
          "name": "stdout",
          "text": [
            "True\n"
          ]
        }
      ]
    },
    {
      "cell_type": "code",
      "source": [
        "# d) Case convesion\n",
        "print(\"python\".upper())"
      ],
      "metadata": {
        "colab": {
          "base_uri": "https://localhost:8080/",
          "height": 0
        },
        "id": "0fCL0NnwqdGg",
        "outputId": "be2a803a-614e-4f8e-d00a-c3464703743e"
      },
      "execution_count": 13,
      "outputs": [
        {
          "output_type": "stream",
          "name": "stdout",
          "text": [
            "PYTHON\n"
          ]
        }
      ]
    },
    {
      "cell_type": "markdown",
      "source": [
        "### 📝 Exercício 2\n",
        "Use um `while` para simular o saldo de uma conta bancária que sofre um saque de R\\$ 100 por mês até zerar.\n",
        "Comece com R\\$ 1000 e exiba o saldo a cada mês."
      ],
      "metadata": {
        "id": "i1ec4fE28qZS"
      }
    },
    {
      "cell_type": "code",
      "source": [
        "# declarando variáveis\n",
        "saldo = 1000 #saldo inicial\n",
        "mes = 0 #contador de meses\n",
        "\n",
        "print(f\"Saldo inicial: R$ {saldo}\")\n",
        "\n",
        "while saldo > 0:\n",
        "  mes += 1\n",
        "  saldo -= 100\n",
        "  print(f\"Após o mês {mes}: R$ {saldo}\")\n",
        "\n",
        "print(\"\\nConta zerada.\")"
      ],
      "metadata": {
        "colab": {
          "base_uri": "https://localhost:8080/",
          "height": 0
        },
        "id": "_8ZuvtuGs51x",
        "outputId": "3ee86c71-5cb6-4cc6-a3ea-eb62afebe9eb"
      },
      "execution_count": 15,
      "outputs": [
        {
          "output_type": "stream",
          "name": "stdout",
          "text": [
            "Saldo inicial: R$ 1000\n",
            "Após o mês 1: R$ 900\n",
            "Após o mês 2: R$ 800\n",
            "Após o mês 3: R$ 700\n",
            "Após o mês 4: R$ 600\n",
            "Após o mês 5: R$ 500\n",
            "Após o mês 6: R$ 400\n",
            "Após o mês 7: R$ 300\n",
            "Após o mês 8: R$ 200\n",
            "Após o mês 9: R$ 100\n",
            "Após o mês 10: R$ 0\n",
            "\n",
            "Conta zerada.\n"
          ]
        }
      ]
    },
    {
      "cell_type": "markdown",
      "source": [
        "## 📝 Exercício 3\n",
        "Crie um programa que peça ao usuário a nota de 3 provas e calcule:\n",
        "- A média final\n",
        "- Uma mensagem com:\n",
        "  - “Aprovado” se média ≥ 7\n",
        "  - “Recuperação” se média ≥ 5\n",
        "  - “Reprovado” caso contrário"
      ],
      "metadata": {
        "id": "W9qV0Vk-vqhP"
      }
    },
    {
      "cell_type": "code",
      "source": [
        "# Pedindo para o usuário digitar as 3 notas\n",
        "nota1 = float(input(\"Digite a nota da primeira prova: \"))\n",
        "nota2 = float(input(\"Digite a nota da segunda prova: \"))\n",
        "nota3 = float(input(\"Digite a nota da terceira prova: \"))\n",
        "\n",
        "# Calculando a média final\n",
        "media_final = (nota1 + nota2 + nota3) / 3\n",
        "\n",
        "# Determinando a menssagem baseado na média\n",
        "if media_final >= 7:\n",
        "  mensagem = \"Aprovado\"\n",
        "elif media_final >= 5:\n",
        "  mensagem = \"Recuperação\"\n",
        "else:\n",
        "  mensagem = \"Reprovado\"\n",
        "\n",
        "#exibindo resultados\n",
        "print(f\"\\nA média final é: {media_final:.2f}\")\n",
        "print(f\"Situação: {mensagem}\")\n",
        "\n"
      ],
      "metadata": {
        "colab": {
          "base_uri": "https://localhost:8080/"
        },
        "id": "kCnQzHXhv9Yf",
        "outputId": "f063c7a5-246b-4cea-cdac-172b84a36c45"
      },
      "execution_count": 23,
      "outputs": [
        {
          "output_type": "stream",
          "name": "stdout",
          "text": [
            "Digite a nota da primeira prova: 7\n",
            "Digite a nota da segunda prova: 8.5\n",
            "Digite a nota da terceira prova: 5.5\n",
            "\n",
            "A média final é: 7.00\n",
            "Situação: Aprovado\n"
          ]
        }
      ]
    },
    {
      "cell_type": "markdown",
      "source": [
        "#🧩 Tarefa para Casa\n",
        "Crie um programa que:\n",
        "1. Solicite ao usuário o **valor de 4 despesas fixas mensais** (ex: aluguel, energia, internet, alimentação).\n",
        "2. Some todos os valores das despesas em uma variável `total_despesas`.\n",
        "3. Solicite a **receita mensal** do usuário.\n",
        "4. Calcule e exiba o **lucro ou prejuízo mensal** (receita - total_despesas).\n",
        "5. Exiba uma mensagem final:\n",
        "   - Se o saldo for positivo: “Você teve um lucro de R\\$ X”\n",
        "   - Se for negativo: “Você teve um prejuízo de R\\$ X”\n",
        "   - Se for zero: “Suas contas fecharam no zero a zero”"
      ],
      "metadata": {
        "id": "ZrWqT8eyxx-5"
      }
    },
    {
      "cell_type": "code",
      "source": [
        "# 1. Solicitar o valor de 4 despesas fixas mensais\n",
        "despesa1 =float(input(\"Digite o valor do aluguel:\"))\n",
        "despesa2 =float(input(\"Digite o valor da energia:\"))\n",
        "despesa3 =float(input(\"Digite o valor da internet:\"))\n",
        "despesa4 =float(input(\"Digite o valor da alimentação:\"))\n",
        "\n",
        "#2. Somar todos os valores das despesas\n",
        "total_despesas = despesa1 + despesa2 + despesa3 + despesa4\n",
        "\n",
        "#3. Solicitar a receita mensal do usuário\n",
        "receita_mensal = float(input(\"Digite a sua receita mensal:\"))\n",
        "\n",
        "#4. Calcular o lucro ou prejuízo mensal\n",
        "saldo = receita_mensal - total_despesas\n",
        "\n",
        "#5. Exibir uma mensagem final\n",
        "print(f\"\\nTotal de despesas: R$ {total_despesas:.2f}\")\n",
        "print(f\"\\nReceita mensal: R${receita_mensal:.2f}\")\n",
        "\n",
        "if saldo > 0:\n",
        "  print(f\"Você teve um lucro de R$ {saldo:.2f}\")\n",
        "elif saldo < 0:\n",
        "  print(f\"Você teve um prejuízo de R$ {abs(saldo):.2f}\") # Use abs() to show positive value for loss\n",
        "else:\n",
        "  print(\"Suas contas fecharam no zero a zero\")"
      ],
      "metadata": {
        "colab": {
          "base_uri": "https://localhost:8080/",
          "height": 0
        },
        "id": "jKNG8vr9x29o",
        "outputId": "ddd09251-681f-46ba-e27c-f0128aaeb5b2"
      },
      "execution_count": 22,
      "outputs": [
        {
          "output_type": "stream",
          "name": "stdout",
          "text": [
            "Digite o valor do aluguel:250\n",
            "Digite o valor da energia:300\n",
            "Digite o valor da internet:80\n",
            "Digite o valor da alimentação:400\n",
            "Digite a sua receita mensal:2000\n",
            "\n",
            "Total de despesas: R$ 1030.00\n",
            "\n",
            "Receita mensal: R$2000.00\n",
            "Você teve um lucro de R$ 970.00\n"
          ]
        }
      ]
    }
  ]
}
