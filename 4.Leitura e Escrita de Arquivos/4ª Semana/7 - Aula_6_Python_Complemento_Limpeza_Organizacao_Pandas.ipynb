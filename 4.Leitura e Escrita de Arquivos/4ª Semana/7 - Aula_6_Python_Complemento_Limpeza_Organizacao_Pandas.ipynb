{
  "cells": [
    {
      "cell_type": "markdown",
      "id": "901c5df4",
      "metadata": {
        "id": "901c5df4"
      },
      "source": [
        "# 📘 Aula 6 – Limpeza e Organização de Dados com `pandas`\n",
        "**Objetivos da Aula**:\n",
        "- Identificar e tratar valores ausentes.\n",
        "- Renomear colunas e padronizar nomes.\n",
        "- Alterar o tipo de dados (casting).\n",
        "- Filtrar e ordenar registros.\n",
        "- Corrigir registros com erros ou duplicações."
      ]
    },
    {
      "cell_type": "markdown",
      "id": "296a96e0",
      "metadata": {
        "id": "296a96e0"
      },
      "source": [
        "## 🧠 Parte 1 – Por que limpar os dados?\n",
        "Na prática, os dados podem ter:\n",
        "- Erros de digitação\n",
        "- Valores ausentes\n",
        "- Formatos inconsistentes\n",
        "- Colunas mal nomeadas"
      ]
    },
    {
      "cell_type": "markdown",
      "id": "56fd3efc",
      "metadata": {
        "id": "56fd3efc"
      },
      "source": [
        "## 🧹 Parte 2 – Lidando com valores ausentes"
      ]
    },
    {
      "cell_type": "code",
      "execution_count": null,
      "id": "2ccf5322",
      "metadata": {
        "id": "2ccf5322"
      },
      "outputs": [],
      "source": [
        "import pandas as pd\n",
        "\n",
        "df = pd.read_csv(\"vendas_ausente.csv\", sep=\";\", decimal=\",\")\n",
        "df.isnull()\n",
        "df.isnull().sum()"
      ]
    },
    {
      "cell_type": "code",
      "execution_count": null,
      "id": "d689fe33",
      "metadata": {
        "id": "d689fe33"
      },
      "outputs": [],
      "source": [
        "df_sem_nulos = df.dropna()"
      ]
    },
    {
      "cell_type": "code",
      "execution_count": null,
      "id": "e402cc48",
      "metadata": {
        "id": "e402cc48"
      },
      "outputs": [],
      "source": [
        "df[\"quantidade\"].fillna(0, inplace=True)\n",
        "df[\"produto\"].fillna(\"desconhecido\", inplace=True)"
      ]
    },
    {
      "cell_type": "markdown",
      "id": "4156615d",
      "metadata": {
        "id": "4156615d"
      },
      "source": [
        "## 🏷️ Parte 3 – Renomeando colunas"
      ]
    },
    {
      "cell_type": "code",
      "execution_count": null,
      "id": "f5c48934",
      "metadata": {
        "id": "f5c48934"
      },
      "outputs": [],
      "source": [
        "df.rename(columns={\"valor_total\": \"receita_total\"}, inplace=True)"
      ]
    },
    {
      "cell_type": "code",
      "execution_count": null,
      "id": "dd35353a",
      "metadata": {
        "id": "dd35353a"
      },
      "outputs": [],
      "source": [
        "df.columns = df.columns.str.lower().str.replace(\" \", \"_\").str.normalize(\"NFKD\").str.encode(\"ascii\", errors=\"ignore\").str.decode(\"utf-8\")"
      ]
    },
    {
      "cell_type": "markdown",
      "id": "ab750106",
      "metadata": {
        "id": "ab750106"
      },
      "source": [
        "## 🔄 Parte 4 – Alterar tipos de dados"
      ]
    },
    {
      "cell_type": "code",
      "execution_count": null,
      "id": "6d5a3c55",
      "metadata": {
        "id": "6d5a3c55"
      },
      "outputs": [],
      "source": [
        "df.dtypes"
      ]
    },
    {
      "cell_type": "code",
      "execution_count": null,
      "id": "42cec355",
      "metadata": {
        "id": "42cec355"
      },
      "outputs": [],
      "source": [
        "df[\"quantidade\"] = pd.to_numeric(df[\"quantidade\"])\n",
        "df[\"data_venda\"] = pd.to_datetime(df[\"data_venda\"], errors='coerce')"
      ]
    },
    {
      "cell_type": "markdown",
      "id": "d808064f",
      "metadata": {
        "id": "d808064f"
      },
      "source": [
        "## 🗂️ Parte 5 – Filtrar e ordenar dados"
      ]
    },
    {
      "cell_type": "code",
      "execution_count": null,
      "id": "442bd3c0",
      "metadata": {
        "id": "442bd3c0"
      },
      "outputs": [],
      "source": [
        "df[(df[\"produto\"] == \"Notebook\") & (df[\"quantidade\"] > 5)]"
      ]
    },
    {
      "cell_type": "code",
      "execution_count": null,
      "id": "86056f43",
      "metadata": {
        "id": "86056f43"
      },
      "outputs": [],
      "source": [
        "df.sort_values(by=\"valor_total\", ascending=False)"
      ]
    },
    {
      "cell_type": "markdown",
      "id": "5fcaac67",
      "metadata": {
        "id": "5fcaac67"
      },
      "source": [
        "## ♻️ Parte 6 – Remover duplicações"
      ]
    },
    {
      "cell_type": "code",
      "execution_count": null,
      "id": "3b73809a",
      "metadata": {
        "id": "3b73809a"
      },
      "outputs": [],
      "source": [
        "df.drop_duplicates(inplace=True)"
      ]
    },
    {
      "cell_type": "markdown",
      "id": "5728c830",
      "metadata": {
        "id": "5728c830"
      },
      "source": [
        "## 📝 Parte 7 – Exercícios\n",
        "### 🔹 Exercício 1\n",
        "Carregue o arquivo `empregados.csv` e:\n",
        "- Corrija os nomes das colunas\n",
        "- Preencha salários ausentes com 0\n",
        "- Ordene do maior para o menor salário\n",
        "\n",
        "### 🔹 Exercício 2\n",
        "Com o arquivo `estoque.csv`:\n",
        "- Adicione coluna `valor_total` = quantidade × preço\n",
        "- Remova produtos com quantidade igual a 0\n",
        "- Calcule o valor total do estoque\n",
        "\n",
        "### 🔹 Exercício 3\n",
        "Com o arquivo `financeiro.csv`:\n",
        "- Renomeie `mês` para `mes`\n",
        "- Crie coluna `resultado` (receita - despesa)\n",
        "- Calcule o saldo acumulado"
      ]
    },
    {
      "cell_type": "markdown",
      "id": "19f05724",
      "metadata": {
        "id": "19f05724"
      },
      "source": [
        "## 🔁 Parte 8 – Revisão da Aula\n",
        "| Tarefa                     | Comando                                |\n",
        "|----------------------------|-----------------------------------------|\n",
        "| Ver valores ausentes       | `df.isnull().sum()`                     |\n",
        "| Remover ausentes           | `df.dropna()`                           |\n",
        "| Preencher ausentes         | `df[\"coluna\"].fillna(valor)`            |\n",
        "| Renomear colunas           | `df.rename(columns={...})`             |\n",
        "| Padronizar nomes           | `df.columns = df.columns.str.lower()`  |\n",
        "| Converter tipo de dado     | `pd.to_numeric()` ou `pd.to_datetime()`|\n",
        "| Filtrar linhas             | `df[condição]`                          |\n",
        "| Ordenar                    | `df.sort_values(by=\"coluna\")`         |\n",
        "| Remover duplicatas         | `df.drop_duplicates()`                 |"
      ]
    },
    {
      "cell_type": "markdown",
      "id": "d01b8911",
      "metadata": {
        "id": "d01b8911"
      },
      "source": [
        "## 🧩 Tarefa para Casa\n",
        "Utilize o arquivo `financeiro.csv`:\n",
        "1. Corrija o nome da coluna `mês` para `mes`.\n",
        "2. Preencha valores ausentes com 0.\n",
        "3. Crie a coluna `resultado` = receita - despesa.\n",
        "4. Crie a coluna `situacao`, onde:\n",
        "   - “lucro” se `resultado > 0`\n",
        "   - “prejuízo” se `resultado < 0`\n",
        "   - “equilíbrio” se `resultado == 0`\n",
        "5. Exiba o total de meses com lucro, prejuízo e equilíbrio."
      ]
    },
    {
      "cell_type": "markdown",
      "id": "a9d37ea8",
      "metadata": {
        "id": "a9d37ea8"
      },
      "source": [
        "## 🧠 Complemento – Aprofundamento prático com `pandas`"
      ]
    },
    {
      "cell_type": "markdown",
      "id": "e2ccaf32",
      "metadata": {
        "id": "e2ccaf32"
      },
      "source": [
        "### 🔍 Acessando e manipulando dados com `.loc` e `.iloc`"
      ]
    },
    {
      "cell_type": "code",
      "execution_count": null,
      "id": "277cb2b4",
      "metadata": {
        "id": "277cb2b4"
      },
      "outputs": [],
      "source": [
        "# Selecionar a primeira linha inteira\n",
        "print(df.loc[0])\n",
        "\n",
        "# Selecionar todas as vendas de Notebook\n",
        "print(df.loc[df[\"produto\"] == \"Notebook\"])\n",
        "\n",
        "# Alterar o produto da primeira linha para 'Notebook'\n",
        "df.loc[0, \"produto\"] = \"Notebook\""
      ]
    },
    {
      "cell_type": "code",
      "execution_count": null,
      "id": "b2d3e396",
      "metadata": {
        "id": "b2d3e396"
      },
      "outputs": [],
      "source": [
        "# Selecionar a primeira linha (por posição)\n",
        "print(df.iloc[0])\n",
        "\n",
        "# Selecionar valor da linha 0 e coluna 2\n",
        "print(df.iloc[0, 2])\n",
        "\n",
        "# Selecionar as 5 primeiras linhas e 2 primeiras colunas\n",
        "print(df.iloc[:5, :2])"
      ]
    },
    {
      "cell_type": "markdown",
      "id": "1f3011a1",
      "metadata": {
        "id": "1f3011a1"
      },
      "source": [
        "\n",
        "\n",
        "### 🛠️ Usando `.apply()` para aplicar funções em colunas"
      ]
    },
    {
      "cell_type": "code",
      "execution_count": null,
      "id": "a85eee6e",
      "metadata": {
        "id": "a85eee6e"
      },
      "outputs": [],
      "source": [
        "# Criar nova coluna com classificação do valor_total\n",
        "\n",
        "def classificar(valor):\n",
        "    if valor >= 20000:\n",
        "        return \"alta\"\n",
        "    elif valor >= 10000:\n",
        "        return \"média\"\n",
        "    else:\n",
        "        return \"baixa\"\n",
        "\n",
        "# Antes de aplicar, preencher valores ausentes com 0 para evitar erro\n",
        "valor_total_sem_nan = df[\"valor_total\"].fillna(0)\n",
        "df[\"categoria\"] = valor_total_sem_nan.apply(classificar)\n",
        "df[[\"valor_total\", \"categoria\"]].head()"
      ]
    },
    {
      "cell_type": "markdown",
      "id": "e71de78a",
      "metadata": {
        "id": "e71de78a"
      },
      "source": [
        "### 📊 Usando `.value_counts()` para contagens"
      ]
    },
    {
      "cell_type": "code",
      "execution_count": null,
      "id": "6767e93a",
      "metadata": {
        "id": "6767e93a"
      },
      "outputs": [],
      "source": [
        "# Quantidade de vendas por produto\n",
        "print(df[\"produto\"].value_counts())\n",
        "\n",
        "# Se tiver a coluna 'situacao', mostrar total de cada tipo\n",
        "if \"situacao\" in df.columns:\n",
        "    print(df[\"situacao\"].value_counts())"
      ]
    }
  ],
  "metadata": {
    "colab": {
      "provenance": []
    }
  },
  "nbformat": 4,
  "nbformat_minor": 5
}